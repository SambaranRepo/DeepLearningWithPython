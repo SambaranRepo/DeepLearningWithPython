{
 "cells": [
  {
   "cell_type": "code",
   "execution_count": 1,
   "id": "58f8f320",
   "metadata": {},
   "outputs": [],
   "source": [
    "import numpy as np \n",
    "from tensorflow.keras import layers\n",
    "from tensorflow.keras import models\n",
    "from tensorflow.keras.optimizers import Adam\n",
    "from tensorflow.keras.losses import binary_crossentropy"
   ]
  },
  {
   "cell_type": "code",
   "execution_count": 17,
   "id": "8c0323ef",
   "metadata": {},
   "outputs": [
    {
     "name": "stderr",
     "output_type": "stream",
     "text": [
      "<string>:6: VisibleDeprecationWarning: Creating an ndarray from ragged nested sequences (which is a list-or-tuple of lists-or-tuples-or ndarrays with different lengths or shapes) is deprecated. If you meant to do this, you must specify 'dtype=object' when creating the ndarray\n",
      "/home/sambaran/anaconda3/envs/deep-learning/lib/python3.7/site-packages/tensorflow/python/keras/datasets/imdb.py:159: VisibleDeprecationWarning: Creating an ndarray from ragged nested sequences (which is a list-or-tuple of lists-or-tuples-or ndarrays with different lengths or shapes) is deprecated. If you meant to do this, you must specify 'dtype=object' when creating the ndarray\n",
      "  x_train, y_train = np.array(xs[:idx]), np.array(labels[:idx])\n",
      "/home/sambaran/anaconda3/envs/deep-learning/lib/python3.7/site-packages/tensorflow/python/keras/datasets/imdb.py:160: VisibleDeprecationWarning: Creating an ndarray from ragged nested sequences (which is a list-or-tuple of lists-or-tuples-or ndarrays with different lengths or shapes) is deprecated. If you meant to do this, you must specify 'dtype=object' when creating the ndarray\n",
      "  x_test, y_test = np.array(xs[idx:]), np.array(labels[idx:])\n"
     ]
    }
   ],
   "source": [
    "from tensorflow.keras.datasets import imdb\n",
    "(train_data, train_label), (test_data, test_label) = imdb.load_data(num_words=10000)"
   ]
  },
  {
   "cell_type": "code",
   "execution_count": 18,
   "id": "bd1aa3f8",
   "metadata": {},
   "outputs": [],
   "source": [
    "def vectorize(sequence, num_words = 10000): \n",
    "    '''\n",
    "    : this function takes the input sequence of the imdb dataset and vectorises it. \n",
    "    : Create a tensor of size len(train_data) * 10000.\n",
    "    : Put a 1 if correspodning word is in review or 0 if it is not. \n",
    "    '''\n",
    "    assert isinstance(num_words, int)\n",
    "    output = np.zeros((len(sequence), num_words))\n",
    "    for i,j in enumerate(sequence): \n",
    "        output[i,j] = 1\n",
    "    return output"
   ]
  },
  {
   "cell_type": "code",
   "execution_count": 19,
   "id": "d3b59525",
   "metadata": {},
   "outputs": [],
   "source": [
    "train_data = vectorize(train_data)\n",
    "test_data = vectorize(test_data)"
   ]
  },
  {
   "cell_type": "code",
   "execution_count": 20,
   "id": "075c39a0",
   "metadata": {},
   "outputs": [
    {
     "data": {
      "text/plain": [
       "array([1, 0, 0, ..., 0, 1, 0])"
      ]
     },
     "execution_count": 20,
     "metadata": {},
     "output_type": "execute_result"
    }
   ],
   "source": [
    "train_label"
   ]
  },
  {
   "cell_type": "code",
   "execution_count": 21,
   "id": "ebe7f226",
   "metadata": {},
   "outputs": [],
   "source": [
    "def build_model(num_layers = 16, learning_rate = 1e-3): \n",
    "    '''\n",
    "    : Function to create a neural network model\n",
    "    : layers-> Number of neurons in the hidden layers\n",
    "    : learning_rate -> Value of lr for the optimiser\n",
    "    '''\n",
    "    assert isinstance(learning_rate, float) and isinstance(num_layers, int)\n",
    "    model = models.Sequential()\n",
    "    model.add(layers.Dense(num_layers, activation = 'relu', input_shape = (10000,)))\n",
    "    model.add(layers.Dense(num_layers, activation = 'relu'))\n",
    "    model.add(layers.Dense(1,activation='sigmoid'))\n",
    "    \n",
    "    loss = binary_crossentropy\n",
    "    optimiser = Adam(learning_rate= learning_rate)\n",
    "    model.compile(loss=loss, optimizer=optimiser, metrics=['accuracy'])\n",
    "    return model"
   ]
  },
  {
   "cell_type": "code",
   "execution_count": 22,
   "id": "2ed87460",
   "metadata": {},
   "outputs": [],
   "source": [
    "val_size = int(0.3 * len(train_data))\n",
    "x_val = train_data[:val_size]\n",
    "y_val = train_label[:val_size]\n",
    "x_train = train_data[val_size:]\n",
    "y_train = train_label[val_size:]\n",
    "\n",
    "model1 = build_model(num_layers = 16, learning_rate = 1e-2)\n",
    "model2 = build_model(num_layers = 4, learning_rate= 1e-2)\n",
    "\n",
    "history1 = model1.fit(x_train, y_train, batch_size = 512, epochs = 20, verbose = 0, validation_data = (x_val, y_val))\n",
    "history2 = model2.fit(x_train, y_train, batch_size = 512, epochs = 20, verbose = 0, validation_data = (x_val, y_val))"
   ]
  },
  {
   "cell_type": "code",
   "execution_count": 28,
   "id": "fee27b40",
   "metadata": {},
   "outputs": [
    {
     "data": {
      "text/plain": [
       "<matplotlib.legend.Legend at 0x7fe312f62fd0>"
      ]
     },
     "execution_count": 28,
     "metadata": {},
     "output_type": "execute_result"
    },
    {
     "data": {
      "image/png": "[encoded data removed]",
      "text/plain": [
       "<Figure size 432x288 with 1 Axes>"
      ]
     },
     "metadata": {
      "needs_background": "light"
     },
     "output_type": "display_data"
    }
   ],
   "source": [
    "from matplotlib.pylab import subplots, figure\n",
    "import matplotlib.pyplot as plt\n",
    "%matplotlib inline\n",
    "\n",
    "plt.plot(range(20), history1.history['val_loss'], label = 'Model1 validation loss', marker = 'o')\n",
    "plt.plot(range(20), history2.history['val_loss'], label = 'Model2 validation loss', marker = 'x')\n",
    "plt.legend()"
   ]
  },
  {
   "cell_type": "markdown",
   "id": "f9f3ac68",
   "metadata": {},
   "source": [
    "It is clearly evident from the above that the larger network overfits a lot more than the smaller network. Hence the smaller network is better at generalisation than the larger network"
   ]
  },
  {
   "cell_type": "markdown",
   "id": "052e57c4",
   "metadata": {},
   "source": [
    "# Regularisation "
   ]
  },
  {
   "cell_type": "code",
   "execution_count": 31,
   "id": "711592a0",
   "metadata": {},
   "outputs": [],
   "source": [
    "from tensorflow.keras import regularizers\n",
    "def build_regularised_model(num_layers = 16, learning_rate = 1e-2): \n",
    "    '''\n",
    "    : Function to create a neural network model\n",
    "    : layers-> Number of neurons in the hidden layers\n",
    "    : learning_rate -> Value of lr for the optimiser\n",
    "    : this will also add regularisation loss to the network. We will demonstrate only L2 regularisation here.\n",
    "    '''\n",
    "    assert isinstance(learning_rate, float) and isinstance(num_layers, int)\n",
    "    model = models.Sequential()\n",
    "    model.add(layers.Dense(num_layers, activation = 'relu', kernel_regularizer = regularizers.l2(0.001), input_shape = (10000,)))\n",
    "    model.add(layers.Dense(num_layers, activation = 'relu', kernel_regularizer = regularizers.l2(0.001)))\n",
    "    model.add(layers.Dense(1,kernel_regularizer = regularizers.l2(0.001), activation='sigmoid'))\n",
    "    \n",
    "    loss = binary_crossentropy\n",
    "    optimiser = Adam(learning_rate= learning_rate)\n",
    "    model.compile(loss=loss, optimizer=optimiser, metrics=['accuracy'])\n",
    "    return model"
   ]
  },
  {
   "cell_type": "code",
   "execution_count": 35,
   "id": "89e7f647",
   "metadata": {},
   "outputs": [
    {
     "name": "stdout",
     "output_type": "stream",
     "text": [
      "Epoch 1/15\n",
      "35/35 [==============================] - 2s 33ms/step - loss: 0.6376 - accuracy: 0.6514 - val_loss: 0.3799 - val_accuracy: 0.8611\n",
      "Epoch 2/15\n",
      "35/35 [==============================] - 1s 24ms/step - loss: 0.3056 - accuracy: 0.8987 - val_loss: 0.2841 - val_accuracy: 0.8905\n",
      "Epoch 3/15\n",
      "35/35 [==============================] - 1s 28ms/step - loss: 0.1957 - accuracy: 0.9379 - val_loss: 0.2745 - val_accuracy: 0.8920\n",
      "Epoch 4/15\n",
      "35/35 [==============================] - 1s 26ms/step - loss: 0.1418 - accuracy: 0.9568 - val_loss: 0.2867 - val_accuracy: 0.8901\n",
      "Epoch 5/15\n",
      "35/35 [==============================] - 1s 33ms/step - loss: 0.1125 - accuracy: 0.9707 - val_loss: 0.3039 - val_accuracy: 0.8861\n",
      "Epoch 6/15\n",
      "35/35 [==============================] - 1s 24ms/step - loss: 0.0897 - accuracy: 0.9781 - val_loss: 0.3259 - val_accuracy: 0.8839\n",
      "Epoch 7/15\n",
      "35/35 [==============================] - 1s 23ms/step - loss: 0.0676 - accuracy: 0.9868 - val_loss: 0.3522 - val_accuracy: 0.8811\n",
      "Epoch 8/15\n",
      "35/35 [==============================] - 1s 31ms/step - loss: 0.0495 - accuracy: 0.9921 - val_loss: 0.3873 - val_accuracy: 0.8775\n",
      "Epoch 9/15\n",
      "35/35 [==============================] - 1s 37ms/step - loss: 0.0374 - accuracy: 0.9958 - val_loss: 0.4196 - val_accuracy: 0.8749\n",
      "Epoch 10/15\n",
      "35/35 [==============================] - 1s 28ms/step - loss: 0.0273 - accuracy: 0.9974 - val_loss: 0.4582 - val_accuracy: 0.8721\n",
      "Epoch 11/15\n",
      "35/35 [==============================] - 1s 28ms/step - loss: 0.0239 - accuracy: 0.9984 - val_loss: 0.4834 - val_accuracy: 0.8713\n",
      "Epoch 12/15\n",
      "35/35 [==============================] - 1s 40ms/step - loss: 0.0160 - accuracy: 0.9994 - val_loss: 0.5170 - val_accuracy: 0.8693\n",
      "Epoch 13/15\n",
      "35/35 [==============================] - 1s 30ms/step - loss: 0.0115 - accuracy: 0.9997 - val_loss: 0.5380 - val_accuracy: 0.8705\n",
      "Epoch 14/15\n",
      "35/35 [==============================] - 1s 28ms/step - loss: 0.0096 - accuracy: 0.9998 - val_loss: 0.5616 - val_accuracy: 0.8687\n",
      "Epoch 15/15\n",
      "35/35 [==============================] - 1s 38ms/step - loss: 0.0073 - accuracy: 0.9998 - val_loss: 0.5853 - val_accuracy: 0.8685\n",
      "Epoch 1/15\n",
      "35/35 [==============================] - 2s 42ms/step - loss: 0.5762 - accuracy: 0.7484 - val_loss: 0.4272 - val_accuracy: 0.8709\n",
      "Epoch 2/15\n",
      "35/35 [==============================] - 1s 33ms/step - loss: 0.3215 - accuracy: 0.9183 - val_loss: 0.3975 - val_accuracy: 0.8823\n",
      "Epoch 3/15\n",
      "35/35 [==============================] - 2s 43ms/step - loss: 0.2886 - accuracy: 0.9332 - val_loss: 0.4172 - val_accuracy: 0.8772\n",
      "Epoch 4/15\n",
      "35/35 [==============================] - 1s 35ms/step - loss: 0.2855 - accuracy: 0.9326 - val_loss: 0.4113 - val_accuracy: 0.8764\n",
      "Epoch 5/15\n",
      "35/35 [==============================] - 1s 37ms/step - loss: 0.2716 - accuracy: 0.9376 - val_loss: 0.4077 - val_accuracy: 0.8772\n",
      "Epoch 6/15\n",
      "35/35 [==============================] - 1s 34ms/step - loss: 0.2628 - accuracy: 0.9408 - val_loss: 0.4409 - val_accuracy: 0.8653\n",
      "Epoch 7/15\n",
      "35/35 [==============================] - 1s 27ms/step - loss: 0.2735 - accuracy: 0.9381 - val_loss: 0.4492 - val_accuracy: 0.8561\n",
      "Epoch 8/15\n",
      "35/35 [==============================] - 1s 32ms/step - loss: 0.2735 - accuracy: 0.9368 - val_loss: 0.4187 - val_accuracy: 0.8767\n",
      "Epoch 9/15\n",
      "35/35 [==============================] - 1s 24ms/step - loss: 0.2544 - accuracy: 0.9477 - val_loss: 0.4299 - val_accuracy: 0.8720\n",
      "Epoch 10/15\n",
      "35/35 [==============================] - 1s 34ms/step - loss: 0.2682 - accuracy: 0.9389 - val_loss: 0.4261 - val_accuracy: 0.8752\n",
      "Epoch 11/15\n",
      "35/35 [==============================] - 1s 29ms/step - loss: 0.2443 - accuracy: 0.9530 - val_loss: 0.4333 - val_accuracy: 0.8724\n",
      "Epoch 12/15\n",
      "35/35 [==============================] - 1s 24ms/step - loss: 0.2345 - accuracy: 0.9558 - val_loss: 0.4351 - val_accuracy: 0.8729\n",
      "Epoch 13/15\n",
      "35/35 [==============================] - 1s 40ms/step - loss: 0.2358 - accuracy: 0.9543 - val_loss: 0.4404 - val_accuracy: 0.8708\n",
      "Epoch 14/15\n",
      "35/35 [==============================] - 1s 36ms/step - loss: 0.2415 - accuracy: 0.9550 - val_loss: 0.4987 - val_accuracy: 0.8516\n",
      "Epoch 15/15\n",
      "35/35 [==============================] - 1s 38ms/step - loss: 0.2531 - accuracy: 0.9506 - val_loss: 0.4565 - val_accuracy: 0.8719\n"
     ]
    }
   ],
   "source": [
    "model1 = build_model(num_layers=16)\n",
    "model2 = build_regularised_model(num_layers=16)\n",
    "\n",
    "history1 = model1.fit(x_train, y_train, batch_size = 512, epochs = 15, validation_data=(x_val, y_val))\n",
    "history2 = model2.fit(x_train, y_train, batch_size = 512, epochs = 15, validation_data=(x_val, y_val))"
   ]
  },
  {
   "cell_type": "code",
   "execution_count": 36,
   "id": "51c3318b",
   "metadata": {},
   "outputs": [
    {
     "data": {
      "text/plain": [
       "<matplotlib.legend.Legend at 0x7fe31111a090>"
      ]
     },
     "execution_count": 36,
     "metadata": {},
     "output_type": "execute_result"
    },
    {
     "data": {
      "image/png": "[encoded data removed]",
      "text/plain": [
       "<Figure size 432x288 with 1 Axes>"
      ]
     },
     "metadata": {
      "needs_background": "light"
     },
     "output_type": "display_data"
    }
   ],
   "source": [
    "plt.plot(range(15), history1.history['val_loss'], label = 'Model1 validation loss', marker = 'o')\n",
    "plt.plot(range(15), history2.history['val_loss'], label = 'Model2 validation loss', marker = 'x')\n",
    "plt.legend()"
   ]
  },
  {
   "cell_type": "markdown",
   "id": "01d5dcd3",
   "metadata": {},
   "source": [
    "We can see that the regularised model performs better than the original model. With regularisation we have to be careful that we dont add large penalties for a smaller network. Hence the regularisation weight is also a hyperparameter to experiment with. "
   ]
  },
  {
   "cell_type": "code",
   "execution_count": null,
   "id": "ee54a9f1",
   "metadata": {},
   "outputs": [],
   "source": []
  }
 ],
 "metadata": {
  "kernelspec": {
   "display_name": "Python 3",
   "language": "python",
   "name": "python3"
  },
  "language_info": {
   "codemirror_mode": {
    "name": "ipython",
    "version": 3
   },
   "file_extension": ".py",
   "mimetype": "text/x-python",
   "name": "python",
   "nbconvert_exporter": "python",
   "pygments_lexer": "ipython3",
   "version": "3.7.10"
  }
 },
 "nbformat": 4,
 "nbformat_minor": 5
}
