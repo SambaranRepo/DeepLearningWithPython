{
 "cells": [
  {
   "cell_type": "code",
   "execution_count": 1,
   "id": "b14d6d13",
   "metadata": {},
   "outputs": [],
   "source": [
    "import numpy as np "
   ]
  },
  {
   "cell_type": "code",
   "execution_count": 2,
   "id": "45f4884b",
   "metadata": {},
   "outputs": [],
   "source": [
    "from tensorflow.keras import layers\n",
    "from tensorflow.keras import models\n",
    "from tensorflow.keras.losses import categorical_crossentropy\n",
    "from tensorflow.keras.optimizers import Adam"
   ]
  },
  {
   "cell_type": "code",
   "execution_count": 3,
   "id": "40626cff",
   "metadata": {},
   "outputs": [
    {
     "name": "stderr",
     "output_type": "stream",
     "text": [
      "/home/sambaran/anaconda3/envs/deep-learning/lib/python3.7/site-packages/tensorflow/python/keras/datasets/reuters.py:148: VisibleDeprecationWarning: Creating an ndarray from ragged nested sequences (which is a list-or-tuple of lists-or-tuples-or ndarrays with different lengths or shapes) is deprecated. If you meant to do this, you must specify 'dtype=object' when creating the ndarray\n",
      "  x_train, y_train = np.array(xs[:idx]), np.array(labels[:idx])\n",
      "/home/sambaran/anaconda3/envs/deep-learning/lib/python3.7/site-packages/tensorflow/python/keras/datasets/reuters.py:149: VisibleDeprecationWarning: Creating an ndarray from ragged nested sequences (which is a list-or-tuple of lists-or-tuples-or ndarrays with different lengths or shapes) is deprecated. If you meant to do this, you must specify 'dtype=object' when creating the ndarray\n",
      "  x_test, y_test = np.array(xs[idx:]), np.array(labels[idx:])\n"
     ]
    }
   ],
   "source": [
    "from tensorflow.keras.datasets import reuters\n",
    "(train_data, train_label), (test_data, test_label) = reuters.load_data(num_words=10000)"
   ]
  },
  {
   "cell_type": "code",
   "execution_count": 4,
   "id": "a313c36d",
   "metadata": {},
   "outputs": [],
   "source": [
    "def vectorize(sequences, dimension = 10000): \n",
    "    '''\n",
    "    This function takes the input and converts it to a vectorized sequence with shape len(data) * dimension\n",
    "    '''\n",
    "    length = len(sequences)\n",
    "    x_train = np.zeros((length, dimension), dtype = np.int32)\n",
    "    for i,sequence in enumerate(sequences): \n",
    "        x_train[i,sequence] = 1\n",
    "    return x_train"
   ]
  },
  {
   "cell_type": "code",
   "execution_count": 5,
   "id": "5553ec87",
   "metadata": {},
   "outputs": [],
   "source": [
    "x_train = vectorize(train_data)\n",
    "x_test = vectorize(test_data)"
   ]
  },
  {
   "cell_type": "code",
   "execution_count": 6,
   "id": "3904e061",
   "metadata": {},
   "outputs": [
    {
     "name": "stderr",
     "output_type": "stream",
     "text": [
      "Using TensorFlow backend.\n"
     ]
    }
   ],
   "source": [
    "from keras.utils.np_utils import to_categorical\n",
    "y_train = to_categorical(train_label)\n",
    "y_test = to_categorical(test_label)"
   ]
  },
  {
   "cell_type": "code",
   "execution_count": 7,
   "id": "17f759b4",
   "metadata": {},
   "outputs": [],
   "source": [
    "indices = np.random.permutation(len(x_train))\n",
    "val_len = int(0.3*len(x_train))\n",
    "x_val = x_train[indices[:val_len]]\n",
    "y_val = y_train[indices[:val_len]]\n",
    "x_train = x_train[indices[val_len:]]\n",
    "y_train = y_train[indices[val_len:]]"
   ]
  },
  {
   "cell_type": "code",
   "execution_count": 8,
   "id": "b365b70a",
   "metadata": {},
   "outputs": [
    {
     "name": "stderr",
     "output_type": "stream",
     "text": [
      "2021-12-18 00:07:18.541366: I tensorflow/compiler/jit/xla_cpu_device.cc:41] Not creating XLA devices, tf_xla_enable_xla_devices not set\n",
      "2021-12-18 00:07:18.541876: I tensorflow/core/platform/cpu_feature_guard.cc:142] This TensorFlow binary is optimized with oneAPI Deep Neural Network Library (oneDNN) to use the following CPU instructions in performance-critical operations:  SSE4.1 SSE4.2 AVX AVX2 FMA\n",
      "To enable them in other operations, rebuild TensorFlow with the appropriate compiler flags.\n",
      "2021-12-18 00:07:18.545734: I tensorflow/core/common_runtime/process_util.cc:146] Creating new thread pool with default inter op setting: 2. Tune using inter_op_parallelism_threads for best performance.\n"
     ]
    }
   ],
   "source": [
    "model = models.Sequential()\n",
    "model.add(layers.Dense(128, activation='relu', input_shape= (10000,)))\n",
    "model.add(layers.Dense(64, activation = 'relu'))\n",
    "model.add(layers.Dense(64, activation='relu'))\n",
    "model.add(layers.Dense(46, activation ='softmax'))"
   ]
  },
  {
   "cell_type": "code",
   "execution_count": 9,
   "id": "2a79bd71",
   "metadata": {},
   "outputs": [
    {
     "name": "stdout",
     "output_type": "stream",
     "text": [
      "Model: \"sequential\"\n",
      "_________________________________________________________________\n",
      "Layer (type)                 Output Shape              Param #   \n",
      "=================================================================\n",
      "dense (Dense)                (None, 128)               1280128   \n",
      "_________________________________________________________________\n",
      "dense_1 (Dense)              (None, 64)                8256      \n",
      "_________________________________________________________________\n",
      "dense_2 (Dense)              (None, 64)                4160      \n",
      "_________________________________________________________________\n",
      "dense_3 (Dense)              (None, 46)                2990      \n",
      "=================================================================\n",
      "Total params: 1,295,534\n",
      "Trainable params: 1,295,534\n",
      "Non-trainable params: 0\n",
      "_________________________________________________________________\n"
     ]
    }
   ],
   "source": [
    "model.summary()"
   ]
  },
  {
   "cell_type": "code",
   "execution_count": 10,
   "id": "3bf20e7e",
   "metadata": {},
   "outputs": [],
   "source": [
    "model.compile(loss= 'categorical_crossentropy', optimizer = Adam(learning_rate=1e-3), metrics=['accuracy'])"
   ]
  },
  {
   "cell_type": "code",
   "execution_count": 11,
   "id": "32879fd0",
   "metadata": {},
   "outputs": [
    {
     "name": "stderr",
     "output_type": "stream",
     "text": [
      "2021-12-18 00:07:19.039247: I tensorflow/compiler/mlir/mlir_graph_optimization_pass.cc:116] None of the MLIR optimization passes are enabled (registered 2)\n",
      "2021-12-18 00:07:19.059837: I tensorflow/core/platform/profile_utils/cpu_utils.cc:112] CPU Frequency: 2599990000 Hz\n"
     ]
    },
    {
     "name": "stdout",
     "output_type": "stream",
     "text": [
      "Epoch 1/20\n",
      "13/13 [==============================] - 2s 97ms/step - loss: 3.5838 - accuracy: 0.2536 - val_loss: 2.5328 - val_accuracy: 0.3679\n",
      "Epoch 2/20\n",
      "13/13 [==============================] - 1s 63ms/step - loss: 2.2622 - accuracy: 0.4634 - val_loss: 1.6354 - val_accuracy: 0.6347\n",
      "Epoch 3/20\n",
      "13/13 [==============================] - 1s 57ms/step - loss: 1.5242 - accuracy: 0.6669 - val_loss: 1.3405 - val_accuracy: 0.7146\n",
      "Epoch 4/20\n",
      "13/13 [==============================] - 1s 64ms/step - loss: 1.1240 - accuracy: 0.7477 - val_loss: 1.1813 - val_accuracy: 0.7468\n",
      "Epoch 5/20\n",
      "13/13 [==============================] - 1s 66ms/step - loss: 0.8888 - accuracy: 0.8039 - val_loss: 1.0843 - val_accuracy: 0.7721\n",
      "Epoch 6/20\n",
      "13/13 [==============================] - 1s 59ms/step - loss: 0.6823 - accuracy: 0.8472 - val_loss: 1.0201 - val_accuracy: 0.7795\n",
      "Epoch 7/20\n",
      "13/13 [==============================] - 1s 52ms/step - loss: 0.4807 - accuracy: 0.8938 - val_loss: 1.0087 - val_accuracy: 0.7925\n",
      "Epoch 8/20\n",
      "13/13 [==============================] - 1s 63ms/step - loss: 0.3602 - accuracy: 0.9225 - val_loss: 1.0023 - val_accuracy: 0.8010\n",
      "Epoch 9/20\n",
      "13/13 [==============================] - 1s 53ms/step - loss: 0.2491 - accuracy: 0.9468 - val_loss: 1.0244 - val_accuracy: 0.8040\n",
      "Epoch 10/20\n",
      "13/13 [==============================] - 1s 60ms/step - loss: 0.1983 - accuracy: 0.9581 - val_loss: 1.0446 - val_accuracy: 0.8003\n",
      "Epoch 11/20\n",
      "13/13 [==============================] - 1s 56ms/step - loss: 0.1566 - accuracy: 0.9628 - val_loss: 1.0731 - val_accuracy: 0.8014\n",
      "Epoch 12/20\n",
      "13/13 [==============================] - 1s 57ms/step - loss: 0.1316 - accuracy: 0.9667 - val_loss: 1.1059 - val_accuracy: 0.8073\n",
      "Epoch 13/20\n",
      "13/13 [==============================] - 1s 54ms/step - loss: 0.1196 - accuracy: 0.9656 - val_loss: 1.1038 - val_accuracy: 0.8048\n",
      "Epoch 14/20\n",
      "13/13 [==============================] - 1s 64ms/step - loss: 0.1003 - accuracy: 0.9692 - val_loss: 1.1479 - val_accuracy: 0.8051\n",
      "Epoch 15/20\n",
      "13/13 [==============================] - 1s 62ms/step - loss: 0.0968 - accuracy: 0.9678 - val_loss: 1.1672 - val_accuracy: 0.8014\n",
      "Epoch 16/20\n",
      "13/13 [==============================] - 1s 59ms/step - loss: 0.0968 - accuracy: 0.9680 - val_loss: 1.1661 - val_accuracy: 0.7992\n",
      "Epoch 17/20\n",
      "13/13 [==============================] - 1s 59ms/step - loss: 0.0973 - accuracy: 0.9683 - val_loss: 1.2263 - val_accuracy: 0.7973\n",
      "Epoch 18/20\n",
      "13/13 [==============================] - 1s 59ms/step - loss: 0.0807 - accuracy: 0.9720 - val_loss: 1.1771 - val_accuracy: 0.8055\n",
      "Epoch 19/20\n",
      "13/13 [==============================] - 1s 62ms/step - loss: 0.0757 - accuracy: 0.9743 - val_loss: 1.2144 - val_accuracy: 0.7977\n",
      "Epoch 20/20\n",
      "13/13 [==============================] - 1s 57ms/step - loss: 0.0811 - accuracy: 0.9715 - val_loss: 1.2030 - val_accuracy: 0.8010\n"
     ]
    },
    {
     "data": {
      "text/plain": [
       "<tensorflow.python.keras.callbacks.History at 0x7f99c8ca0cd0>"
      ]
     },
     "execution_count": 11,
     "metadata": {},
     "output_type": "execute_result"
    }
   ],
   "source": [
    "model.fit(x_train, y_train, epochs= 20, batch_size = 512, validation_data=(x_val, y_val))"
   ]
  },
  {
   "cell_type": "code",
   "execution_count": 12,
   "id": "ef890b89",
   "metadata": {},
   "outputs": [],
   "source": [
    "history = model.history\n",
    "history = history.history"
   ]
  },
  {
   "cell_type": "code",
   "execution_count": 13,
   "id": "329b56c7",
   "metadata": {},
   "outputs": [
    {
     "data": {
      "text/plain": [
       "<matplotlib.legend.Legend at 0x7f9994167190>"
      ]
     },
     "execution_count": 13,
     "metadata": {},
     "output_type": "execute_result"
    },
    {
     "data": {
      "image/png": "[encoded data removed]",
      "text/plain": [
       "<Figure size 432x288 with 1 Axes>"
      ]
     },
     "metadata": {
      "needs_background": "light"
     },
     "output_type": "display_data"
    }
   ],
   "source": [
    "import matplotlib.pyplot as plt\n",
    "%matplotlib inline\n",
    "plt.plot(range(20), history['loss'], label = 'Training loss')\n",
    "plt.plot(range(20), history['val_loss'], label = 'Validation loss')\n",
    "plt.legend()"
   ]
  },
  {
   "cell_type": "code",
   "execution_count": 14,
   "id": "3ed0e555",
   "metadata": {},
   "outputs": [
    {
     "name": "stdout",
     "output_type": "stream",
     "text": [
      "71/71 [==============================] - 3s 37ms/step - loss: 1.2876 - accuracy: 0.7818\n"
     ]
    },
    {
     "data": {
      "text/plain": [
       "[1.28755784034729, 0.7818343639373779]"
      ]
     },
     "execution_count": 14,
     "metadata": {},
     "output_type": "execute_result"
    }
   ],
   "source": [
    "model.evaluate(x_test, y_test)"
   ]
  },
  {
   "cell_type": "code",
   "execution_count": null,
   "id": "fdaf1b83",
   "metadata": {},
   "outputs": [],
   "source": []
  }
 ],
 "metadata": {
  "kernelspec": {
   "display_name": "Python 3",
   "language": "python",
   "name": "python3"
  },
  "language_info": {
   "codemirror_mode": {
    "name": "ipython",
    "version": 3
   },
   "file_extension": ".py",
   "mimetype": "text/x-python",
   "name": "python",
   "nbconvert_exporter": "python",
   "pygments_lexer": "ipython3",
   "version": "3.7.10"
  }
 },
 "nbformat": 4,
 "nbformat_minor": 5
}
