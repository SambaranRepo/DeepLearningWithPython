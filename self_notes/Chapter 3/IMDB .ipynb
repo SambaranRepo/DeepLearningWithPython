{
 "cells": [
  {
   "cell_type": "code",
   "execution_count": 2,
   "id": "524efc26",
   "metadata": {},
   "outputs": [],
   "source": [
    "import numpy as np"
   ]
  },
  {
   "cell_type": "code",
   "execution_count": 3,
   "id": "738f47ef",
   "metadata": {},
   "outputs": [],
   "source": [
    "from tensorflow.keras import layers, models"
   ]
  },
  {
   "cell_type": "code",
   "execution_count": 4,
   "id": "a282c6d5",
   "metadata": {},
   "outputs": [],
   "source": [
    "from tensorflow.keras.datasets import imdb"
   ]
  },
  {
   "cell_type": "code",
   "execution_count": 5,
   "id": "4292ffa3",
   "metadata": {},
   "outputs": [
    {
     "name": "stdout",
     "output_type": "stream",
     "text": [
      "Downloading data from https://storage.googleapis.com/tensorflow/tf-keras-datasets/imdb.npz\n",
      "17465344/17464789 [==============================] - 1s 0us/step\n"
     ]
    },
    {
     "name": "stderr",
     "output_type": "stream",
     "text": [
      "<__array_function__ internals>:5: VisibleDeprecationWarning: Creating an ndarray from ragged nested sequences (which is a list-or-tuple of lists-or-tuples-or ndarrays with different lengths or shapes) is deprecated. If you meant to do this, you must specify 'dtype=object' when creating the ndarray.\n",
      "/home/sambaran/.local/lib/python3.8/site-packages/tensorflow/python/keras/datasets/imdb.py:159: VisibleDeprecationWarning: Creating an ndarray from ragged nested sequences (which is a list-or-tuple of lists-or-tuples-or ndarrays with different lengths or shapes) is deprecated. If you meant to do this, you must specify 'dtype=object' when creating the ndarray.\n",
      "  x_train, y_train = np.array(xs[:idx]), np.array(labels[:idx])\n",
      "/home/sambaran/.local/lib/python3.8/site-packages/tensorflow/python/keras/datasets/imdb.py:160: VisibleDeprecationWarning: Creating an ndarray from ragged nested sequences (which is a list-or-tuple of lists-or-tuples-or ndarrays with different lengths or shapes) is deprecated. If you meant to do this, you must specify 'dtype=object' when creating the ndarray.\n",
      "  x_test, y_test = np.array(xs[idx:]), np.array(labels[idx:])\n"
     ]
    }
   ],
   "source": [
    "(train_data, train_label), (test_data, test_label) = imdb.load_data(num_words = 10000)"
   ]
  },
  {
   "cell_type": "code",
   "execution_count": 7,
   "id": "191481e5",
   "metadata": {},
   "outputs": [
    {
     "data": {
      "text/plain": [
       "numpy.ndarray"
      ]
     },
     "execution_count": 7,
     "metadata": {},
     "output_type": "execute_result"
    }
   ],
   "source": [
    "type(train_data)"
   ]
  },
  {
   "cell_type": "code",
   "execution_count": 8,
   "id": "94b0be54",
   "metadata": {},
   "outputs": [],
   "source": [
    "def vectorize(sequence, dimension = 10000): \n",
    "    '''\n",
    "    For the imdb dataset, train data is a list of indices corresponding to words in the review\n",
    "    For input to the neural network, this has to be converted to a matrix of integer indices\n",
    "    Create a np matrix of shape (len(train_data), dimension) where all elements are 0 except indices present in input\n",
    "    '''\n",
    "    result = np.zeros((len(sequence), dimension), dtype = np.float32)\n",
    "    for i, item in enumerate(sequence): \n",
    "        result[i,item] = 1\n",
    "    return result"
   ]
  },
  {
   "cell_type": "code",
   "execution_count": 9,
   "id": "c3a8e037",
   "metadata": {},
   "outputs": [],
   "source": [
    "train_data = vectorize(train_data)"
   ]
  },
  {
   "cell_type": "code",
   "execution_count": 10,
   "id": "0a9ac56c",
   "metadata": {},
   "outputs": [
    {
     "data": {
      "text/plain": [
       "array([0., 1., 1., ..., 0., 0., 0.], dtype=float32)"
      ]
     },
     "execution_count": 10,
     "metadata": {},
     "output_type": "execute_result"
    }
   ],
   "source": [
    "train_data[0]"
   ]
  },
  {
   "cell_type": "code",
   "execution_count": 12,
   "id": "03d3615d",
   "metadata": {},
   "outputs": [
    {
     "data": {
      "text/plain": [
       "(25000, 10000)"
      ]
     },
     "execution_count": 12,
     "metadata": {},
     "output_type": "execute_result"
    }
   ],
   "source": [
    "train_data.shape"
   ]
  },
  {
   "cell_type": "code",
   "execution_count": 13,
   "id": "010548d9",
   "metadata": {},
   "outputs": [],
   "source": [
    "test_data = vectorize(test_data)"
   ]
  },
  {
   "cell_type": "code",
   "execution_count": 14,
   "id": "90bcf4cc",
   "metadata": {},
   "outputs": [],
   "source": [
    "model = models.Sequential()\n",
    "model.add(layers.Dense(24,activation='relu', input_shape=(10000,)))\n",
    "model.add(layers.Dense(24,activation='relu'))\n",
    "model.add(layers.Dense(1, activation='sigmoid'))"
   ]
  },
  {
   "cell_type": "code",
   "execution_count": 15,
   "id": "f2762e04",
   "metadata": {},
   "outputs": [],
   "source": [
    "from tensorflow.keras import optimizers\n",
    "from tensorflow.keras import losses\n",
    "optimizer = optimizers.Adam(learning_rate=1e-3)\n",
    "loss = losses.binary_crossentropy"
   ]
  },
  {
   "cell_type": "code",
   "execution_count": 16,
   "id": "fd5a92eb",
   "metadata": {},
   "outputs": [],
   "source": [
    "model.compile(optimizer=optimizer, loss=loss, metrics=['accuracy'])"
   ]
  },
  {
   "cell_type": "code",
   "execution_count": 17,
   "id": "ef0240c8",
   "metadata": {},
   "outputs": [
    {
     "name": "stdout",
     "output_type": "stream",
     "text": [
      "Model: \"sequential\"\n",
      "_________________________________________________________________\n",
      "Layer (type)                 Output Shape              Param #   \n",
      "=================================================================\n",
      "dense (Dense)                (None, 24)                240024    \n",
      "_________________________________________________________________\n",
      "dense_1 (Dense)              (None, 24)                600       \n",
      "_________________________________________________________________\n",
      "dense_2 (Dense)              (None, 1)                 25        \n",
      "=================================================================\n",
      "Total params: 240,649\n",
      "Trainable params: 240,649\n",
      "Non-trainable params: 0\n",
      "_________________________________________________________________\n"
     ]
    }
   ],
   "source": [
    "model.summary()"
   ]
  },
  {
   "cell_type": "code",
   "execution_count": 19,
   "id": "95750ee0",
   "metadata": {},
   "outputs": [],
   "source": [
    "indices = np.random.permutation(len(train_data))"
   ]
  },
  {
   "cell_type": "code",
   "execution_count": 20,
   "id": "863aa99c",
   "metadata": {},
   "outputs": [
    {
     "data": {
      "text/plain": [
       "array([22954, 21379,   442, ...,  4497, 17592,  2116])"
      ]
     },
     "execution_count": 20,
     "metadata": {},
     "output_type": "execute_result"
    }
   ],
   "source": [
    "indices"
   ]
  },
  {
   "cell_type": "code",
   "execution_count": 25,
   "id": "6f83d9c1",
   "metadata": {},
   "outputs": [],
   "source": [
    "x_train = train_data[indices[:-10000]]\n",
    "y_train = train_label[indices[:-10000]]"
   ]
  },
  {
   "cell_type": "code",
   "execution_count": 26,
   "id": "cda0cacc",
   "metadata": {},
   "outputs": [
    {
     "data": {
      "text/plain": [
       "(15000, 10000)"
      ]
     },
     "execution_count": 26,
     "metadata": {},
     "output_type": "execute_result"
    }
   ],
   "source": [
    "x_train.shape"
   ]
  },
  {
   "cell_type": "code",
   "execution_count": 27,
   "id": "4e2746f1",
   "metadata": {},
   "outputs": [
    {
     "data": {
      "text/plain": [
       "(15000,)"
      ]
     },
     "execution_count": 27,
     "metadata": {},
     "output_type": "execute_result"
    }
   ],
   "source": [
    "y_train.shape"
   ]
  },
  {
   "cell_type": "code",
   "execution_count": 28,
   "id": "7d19d009",
   "metadata": {},
   "outputs": [],
   "source": [
    "x_val = train_data[-10000:]\n",
    "y_val = train_label[-10000:]"
   ]
  },
  {
   "cell_type": "code",
   "execution_count": 29,
   "id": "bdf33fe7",
   "metadata": {},
   "outputs": [
    {
     "name": "stdout",
     "output_type": "stream",
     "text": [
      "Epoch 1/200\n",
      "30/30 [==============================] - 2s 45ms/step - loss: 0.6259 - accuracy: 0.6749 - val_loss: 0.3739 - val_accuracy: 0.8762\n",
      "Epoch 2/200\n",
      "30/30 [==============================] - 0s 13ms/step - loss: 0.3246 - accuracy: 0.8898 - val_loss: 0.2532 - val_accuracy: 0.9095\n",
      "Epoch 3/200\n",
      "30/30 [==============================] - 0s 13ms/step - loss: 0.2019 - accuracy: 0.9370 - val_loss: 0.2004 - val_accuracy: 0.9302\n",
      "Epoch 4/200\n",
      "30/30 [==============================] - 0s 12ms/step - loss: 0.1443 - accuracy: 0.9568 - val_loss: 0.1816 - val_accuracy: 0.9375\n",
      "Epoch 5/200\n",
      "30/30 [==============================] - 0s 13ms/step - loss: 0.1096 - accuracy: 0.9707 - val_loss: 0.1720 - val_accuracy: 0.9434\n",
      "Epoch 6/200\n",
      "30/30 [==============================] - 0s 13ms/step - loss: 0.0807 - accuracy: 0.9820 - val_loss: 0.1695 - val_accuracy: 0.9458\n",
      "Epoch 7/200\n",
      "30/30 [==============================] - 0s 13ms/step - loss: 0.0612 - accuracy: 0.9898 - val_loss: 0.1768 - val_accuracy: 0.9471\n",
      "Epoch 8/200\n",
      "30/30 [==============================] - 0s 13ms/step - loss: 0.0474 - accuracy: 0.9917 - val_loss: 0.1781 - val_accuracy: 0.9495\n",
      "Epoch 9/200\n",
      "30/30 [==============================] - 0s 13ms/step - loss: 0.0349 - accuracy: 0.9945 - val_loss: 0.1882 - val_accuracy: 0.9486\n",
      "Epoch 10/200\n",
      "30/30 [==============================] - 0s 13ms/step - loss: 0.0255 - accuracy: 0.9972 - val_loss: 0.1979 - val_accuracy: 0.9486\n",
      "Epoch 11/200\n",
      "30/30 [==============================] - 0s 13ms/step - loss: 0.0187 - accuracy: 0.9988 - val_loss: 0.2107 - val_accuracy: 0.9482\n",
      "Epoch 12/200\n",
      "30/30 [==============================] - 0s 13ms/step - loss: 0.0142 - accuracy: 0.9993 - val_loss: 0.2193 - val_accuracy: 0.9488\n",
      "Epoch 13/200\n",
      "30/30 [==============================] - 0s 13ms/step - loss: 0.0108 - accuracy: 0.9999 - val_loss: 0.2310 - val_accuracy: 0.9473\n",
      "Epoch 14/200\n",
      "30/30 [==============================] - 0s 14ms/step - loss: 0.0086 - accuracy: 0.9999 - val_loss: 0.2413 - val_accuracy: 0.9476\n",
      "Epoch 15/200\n",
      "30/30 [==============================] - 0s 16ms/step - loss: 0.0069 - accuracy: 0.9999 - val_loss: 0.2501 - val_accuracy: 0.9478\n",
      "Epoch 16/200\n",
      "30/30 [==============================] - 0s 15ms/step - loss: 0.0056 - accuracy: 0.9999 - val_loss: 0.2588 - val_accuracy: 0.9477\n",
      "Epoch 17/200\n",
      "30/30 [==============================] - 0s 14ms/step - loss: 0.0046 - accuracy: 1.0000 - val_loss: 0.2669 - val_accuracy: 0.9474\n",
      "Epoch 18/200\n",
      "30/30 [==============================] - 0s 13ms/step - loss: 0.0040 - accuracy: 0.9999 - val_loss: 0.2755 - val_accuracy: 0.9474\n",
      "Epoch 19/200\n",
      "30/30 [==============================] - 0s 13ms/step - loss: 0.0037 - accuracy: 0.9998 - val_loss: 0.2830 - val_accuracy: 0.9468\n",
      "Epoch 20/200\n",
      "30/30 [==============================] - 0s 13ms/step - loss: 0.0032 - accuracy: 0.9998 - val_loss: 0.2898 - val_accuracy: 0.9471\n",
      "Epoch 21/200\n",
      "30/30 [==============================] - 0s 13ms/step - loss: 0.0026 - accuracy: 1.0000 - val_loss: 0.2958 - val_accuracy: 0.9474\n",
      "Epoch 22/200\n",
      "30/30 [==============================] - 0s 16ms/step - loss: 0.0021 - accuracy: 1.0000 - val_loss: 0.3024 - val_accuracy: 0.9473\n",
      "Epoch 23/200\n",
      "30/30 [==============================] - 0s 14ms/step - loss: 0.0020 - accuracy: 0.9999 - val_loss: 0.3086 - val_accuracy: 0.9464\n",
      "Epoch 24/200\n",
      "30/30 [==============================] - 0s 16ms/step - loss: 0.0022 - accuracy: 0.9997 - val_loss: 0.3130 - val_accuracy: 0.9469\n",
      "Epoch 25/200\n",
      "30/30 [==============================] - 0s 14ms/step - loss: 0.0015 - accuracy: 1.0000 - val_loss: 0.3188 - val_accuracy: 0.9473\n",
      "Epoch 26/200\n",
      "30/30 [==============================] - 0s 15ms/step - loss: 0.0015 - accuracy: 1.0000 - val_loss: 0.3239 - val_accuracy: 0.9470\n",
      "Epoch 27/200\n",
      "30/30 [==============================] - 1s 18ms/step - loss: 0.0013 - accuracy: 1.0000 - val_loss: 0.3294 - val_accuracy: 0.9467\n",
      "Epoch 28/200\n",
      "30/30 [==============================] - 0s 13ms/step - loss: 0.0011 - accuracy: 1.0000 - val_loss: 0.3341 - val_accuracy: 0.9466\n",
      "Epoch 29/200\n",
      "30/30 [==============================] - 0s 14ms/step - loss: 0.0010 - accuracy: 1.0000 - val_loss: 0.3385 - val_accuracy: 0.9467\n",
      "Epoch 30/200\n",
      "30/30 [==============================] - 0s 14ms/step - loss: 9.2877e-04 - accuracy: 1.0000 - val_loss: 0.3436 - val_accuracy: 0.9467\n",
      "Epoch 31/200\n",
      "30/30 [==============================] - 0s 17ms/step - loss: 8.5962e-04 - accuracy: 1.0000 - val_loss: 0.3478 - val_accuracy: 0.9468\n",
      "Epoch 32/200\n",
      "30/30 [==============================] - 0s 13ms/step - loss: 7.9097e-04 - accuracy: 1.0000 - val_loss: 0.3518 - val_accuracy: 0.9467\n",
      "Epoch 33/200\n",
      "30/30 [==============================] - 0s 13ms/step - loss: 7.6132e-04 - accuracy: 1.0000 - val_loss: 0.3564 - val_accuracy: 0.9466\n",
      "Epoch 34/200\n",
      "30/30 [==============================] - 0s 13ms/step - loss: 6.9423e-04 - accuracy: 1.0000 - val_loss: 0.3598 - val_accuracy: 0.9466\n",
      "Epoch 35/200\n",
      "30/30 [==============================] - 0s 13ms/step - loss: 6.3713e-04 - accuracy: 1.0000 - val_loss: 0.3639 - val_accuracy: 0.9464\n",
      "Epoch 36/200\n",
      "30/30 [==============================] - 0s 14ms/step - loss: 5.7433e-04 - accuracy: 1.0000 - val_loss: 0.3674 - val_accuracy: 0.9465\n",
      "Epoch 37/200\n",
      "30/30 [==============================] - 0s 13ms/step - loss: 5.3367e-04 - accuracy: 1.0000 - val_loss: 0.3715 - val_accuracy: 0.9461\n",
      "Epoch 38/200\n",
      "30/30 [==============================] - 0s 14ms/step - loss: 5.2804e-04 - accuracy: 1.0000 - val_loss: 0.3747 - val_accuracy: 0.9460\n",
      "Epoch 39/200\n",
      "30/30 [==============================] - 0s 16ms/step - loss: 5.0103e-04 - accuracy: 1.0000 - val_loss: 0.3781 - val_accuracy: 0.9460\n",
      "Epoch 40/200\n",
      "30/30 [==============================] - 1s 17ms/step - loss: 4.5557e-04 - accuracy: 1.0000 - val_loss: 0.3817 - val_accuracy: 0.9458\n",
      "Epoch 41/200\n",
      "30/30 [==============================] - 1s 17ms/step - loss: 4.1870e-04 - accuracy: 1.0000 - val_loss: 0.3848 - val_accuracy: 0.9458\n",
      "Epoch 42/200\n",
      "30/30 [==============================] - 0s 15ms/step - loss: 3.9201e-04 - accuracy: 1.0000 - val_loss: 0.3878 - val_accuracy: 0.9458\n",
      "Epoch 43/200\n",
      "30/30 [==============================] - 1s 17ms/step - loss: 3.7981e-04 - accuracy: 1.0000 - val_loss: 0.3910 - val_accuracy: 0.9457\n",
      "Epoch 44/200\n",
      "30/30 [==============================] - 0s 14ms/step - loss: 3.5162e-04 - accuracy: 1.0000 - val_loss: 0.3944 - val_accuracy: 0.9457\n",
      "Epoch 45/200\n",
      "30/30 [==============================] - 0s 16ms/step - loss: 3.4432e-04 - accuracy: 1.0000 - val_loss: 0.3971 - val_accuracy: 0.9457\n",
      "Epoch 46/200\n",
      "30/30 [==============================] - 0s 16ms/step - loss: 3.3027e-04 - accuracy: 1.0000 - val_loss: 0.3997 - val_accuracy: 0.9458\n",
      "Epoch 47/200\n",
      "30/30 [==============================] - 0s 14ms/step - loss: 3.0652e-04 - accuracy: 1.0000 - val_loss: 0.4027 - val_accuracy: 0.9458\n",
      "Epoch 48/200\n",
      "30/30 [==============================] - 0s 14ms/step - loss: 2.7812e-04 - accuracy: 1.0000 - val_loss: 0.4057 - val_accuracy: 0.9459\n",
      "Epoch 49/200\n",
      "30/30 [==============================] - 0s 13ms/step - loss: 2.7556e-04 - accuracy: 1.0000 - val_loss: 0.4081 - val_accuracy: 0.9457\n",
      "Epoch 50/200\n",
      "30/30 [==============================] - 0s 14ms/step - loss: 2.5865e-04 - accuracy: 1.0000 - val_loss: 0.4107 - val_accuracy: 0.9455\n",
      "Epoch 51/200\n",
      "30/30 [==============================] - 0s 16ms/step - loss: 2.5835e-04 - accuracy: 1.0000 - val_loss: 0.4135 - val_accuracy: 0.9455\n",
      "Epoch 52/200\n",
      "30/30 [==============================] - 1s 17ms/step - loss: 2.4233e-04 - accuracy: 1.0000 - val_loss: 0.4160 - val_accuracy: 0.9456\n",
      "Epoch 53/200\n",
      "30/30 [==============================] - 0s 17ms/step - loss: 2.2038e-04 - accuracy: 1.0000 - val_loss: 0.4207 - val_accuracy: 0.9457\n",
      "Epoch 54/200\n",
      "30/30 [==============================] - 0s 15ms/step - loss: 2.0170e-04 - accuracy: 1.0000 - val_loss: 0.4288 - val_accuracy: 0.9455\n",
      "Epoch 55/200\n",
      "30/30 [==============================] - 1s 17ms/step - loss: 1.7829e-04 - accuracy: 1.0000 - val_loss: 0.4419 - val_accuracy: 0.9451\n",
      "Epoch 56/200\n",
      "30/30 [==============================] - 0s 14ms/step - loss: 1.4340e-04 - accuracy: 1.0000 - val_loss: 0.4566 - val_accuracy: 0.9453\n",
      "Epoch 57/200\n",
      "30/30 [==============================] - 0s 14ms/step - loss: 1.1264e-04 - accuracy: 1.0000 - val_loss: 0.4712 - val_accuracy: 0.9450\n",
      "Epoch 58/200\n",
      "30/30 [==============================] - 0s 13ms/step - loss: 8.6022e-05 - accuracy: 1.0000 - val_loss: 0.4851 - val_accuracy: 0.9449\n",
      "Epoch 59/200\n",
      "30/30 [==============================] - 0s 13ms/step - loss: 6.8632e-05 - accuracy: 1.0000 - val_loss: 0.4975 - val_accuracy: 0.9449\n",
      "Epoch 60/200\n",
      "30/30 [==============================] - 0s 13ms/step - loss: 6.2556e-05 - accuracy: 1.0000 - val_loss: 0.5090 - val_accuracy: 0.9449\n",
      "Epoch 61/200\n",
      "30/30 [==============================] - 0s 13ms/step - loss: 4.8823e-05 - accuracy: 1.0000 - val_loss: 0.5191 - val_accuracy: 0.9448\n",
      "Epoch 62/200\n",
      "30/30 [==============================] - 0s 13ms/step - loss: 4.1347e-05 - accuracy: 1.0000 - val_loss: 0.5286 - val_accuracy: 0.9448\n",
      "Epoch 63/200\n",
      "30/30 [==============================] - 0s 13ms/step - loss: 3.5427e-05 - accuracy: 1.0000 - val_loss: 0.5377 - val_accuracy: 0.9447\n",
      "Epoch 64/200\n",
      "30/30 [==============================] - 0s 14ms/step - loss: 3.1932e-05 - accuracy: 1.0000 - val_loss: 0.5458 - val_accuracy: 0.9448\n",
      "Epoch 65/200\n",
      "30/30 [==============================] - 0s 14ms/step - loss: 2.9505e-05 - accuracy: 1.0000 - val_loss: 0.5531 - val_accuracy: 0.9447\n",
      "Epoch 66/200\n",
      "30/30 [==============================] - 0s 17ms/step - loss: 2.5692e-05 - accuracy: 1.0000 - val_loss: 0.5605 - val_accuracy: 0.9447\n",
      "Epoch 67/200\n",
      "30/30 [==============================] - 0s 13ms/step - loss: 2.3252e-05 - accuracy: 1.0000 - val_loss: 0.5669 - val_accuracy: 0.9447\n",
      "Epoch 68/200\n",
      "30/30 [==============================] - 0s 16ms/step - loss: 2.0107e-05 - accuracy: 1.0000 - val_loss: 0.5735 - val_accuracy: 0.9448\n",
      "Epoch 69/200\n",
      "30/30 [==============================] - 0s 16ms/step - loss: 1.9141e-05 - accuracy: 1.0000 - val_loss: 0.5793 - val_accuracy: 0.9447\n",
      "Epoch 70/200\n",
      "30/30 [==============================] - 0s 14ms/step - loss: 1.6562e-05 - accuracy: 1.0000 - val_loss: 0.5848 - val_accuracy: 0.9447\n",
      "Epoch 71/200\n",
      "30/30 [==============================] - 0s 13ms/step - loss: 1.5145e-05 - accuracy: 1.0000 - val_loss: 0.5901 - val_accuracy: 0.9443\n",
      "Epoch 72/200\n",
      "30/30 [==============================] - 0s 17ms/step - loss: 1.3788e-05 - accuracy: 1.0000 - val_loss: 0.5953 - val_accuracy: 0.9447\n",
      "Epoch 73/200\n",
      "30/30 [==============================] - 0s 13ms/step - loss: 1.3625e-05 - accuracy: 1.0000 - val_loss: 0.6002 - val_accuracy: 0.9444\n",
      "Epoch 74/200\n",
      "30/30 [==============================] - 0s 15ms/step - loss: 1.2736e-05 - accuracy: 1.0000 - val_loss: 0.6049 - val_accuracy: 0.9444\n",
      "Epoch 75/200\n",
      "30/30 [==============================] - 0s 15ms/step - loss: 1.2240e-05 - accuracy: 1.0000 - val_loss: 0.6094 - val_accuracy: 0.9444\n",
      "Epoch 76/200\n",
      "30/30 [==============================] - 0s 14ms/step - loss: 1.0262e-05 - accuracy: 1.0000 - val_loss: 0.6138 - val_accuracy: 0.9444\n",
      "Epoch 77/200\n",
      "30/30 [==============================] - 0s 14ms/step - loss: 1.0330e-05 - accuracy: 1.0000 - val_loss: 0.6180 - val_accuracy: 0.9445\n",
      "Epoch 78/200\n",
      "30/30 [==============================] - 1s 17ms/step - loss: 9.0636e-06 - accuracy: 1.0000 - val_loss: 0.6218 - val_accuracy: 0.9445\n",
      "Epoch 79/200\n",
      "30/30 [==============================] - 0s 13ms/step - loss: 9.3353e-06 - accuracy: 1.0000 - val_loss: 0.6259 - val_accuracy: 0.9445\n",
      "Epoch 80/200\n",
      "30/30 [==============================] - 0s 13ms/step - loss: 8.7170e-06 - accuracy: 1.0000 - val_loss: 0.6296 - val_accuracy: 0.9446\n",
      "Epoch 81/200\n",
      "30/30 [==============================] - 0s 13ms/step - loss: 8.6591e-06 - accuracy: 1.0000 - val_loss: 0.6334 - val_accuracy: 0.9446\n",
      "Epoch 82/200\n",
      "30/30 [==============================] - 0s 13ms/step - loss: 7.7249e-06 - accuracy: 1.0000 - val_loss: 0.6369 - val_accuracy: 0.9446\n",
      "Epoch 83/200\n",
      "30/30 [==============================] - 0s 13ms/step - loss: 7.3489e-06 - accuracy: 1.0000 - val_loss: 0.6403 - val_accuracy: 0.9446\n",
      "Epoch 84/200\n",
      "30/30 [==============================] - 0s 15ms/step - loss: 6.9254e-06 - accuracy: 1.0000 - val_loss: 0.6436 - val_accuracy: 0.9446\n",
      "Epoch 85/200\n",
      "30/30 [==============================] - 0s 14ms/step - loss: 6.3989e-06 - accuracy: 1.0000 - val_loss: 0.6469 - val_accuracy: 0.9446\n",
      "Epoch 86/200\n",
      "30/30 [==============================] - 0s 16ms/step - loss: 6.2382e-06 - accuracy: 1.0000 - val_loss: 0.6500 - val_accuracy: 0.9446\n",
      "Epoch 87/200\n",
      "30/30 [==============================] - 0s 14ms/step - loss: 5.7760e-06 - accuracy: 1.0000 - val_loss: 0.6533 - val_accuracy: 0.9446\n",
      "Epoch 88/200\n",
      "30/30 [==============================] - 0s 13ms/step - loss: 5.7433e-06 - accuracy: 1.0000 - val_loss: 0.6563 - val_accuracy: 0.9446\n",
      "Epoch 89/200\n",
      "30/30 [==============================] - 0s 13ms/step - loss: 5.2768e-06 - accuracy: 1.0000 - val_loss: 0.6592 - val_accuracy: 0.9446\n",
      "Epoch 90/200\n",
      "30/30 [==============================] - 0s 14ms/step - loss: 5.3262e-06 - accuracy: 1.0000 - val_loss: 0.6622 - val_accuracy: 0.9446\n",
      "Epoch 91/200\n",
      "30/30 [==============================] - 0s 14ms/step - loss: 4.9641e-06 - accuracy: 1.0000 - val_loss: 0.6650 - val_accuracy: 0.9446\n",
      "Epoch 92/200\n",
      "30/30 [==============================] - 0s 14ms/step - loss: 5.0891e-06 - accuracy: 1.0000 - val_loss: 0.6679 - val_accuracy: 0.9446\n",
      "Epoch 93/200\n",
      "30/30 [==============================] - 0s 13ms/step - loss: 4.6633e-06 - accuracy: 1.0000 - val_loss: 0.6706 - val_accuracy: 0.9446\n",
      "Epoch 94/200\n",
      "30/30 [==============================] - 0s 14ms/step - loss: 4.4483e-06 - accuracy: 1.0000 - val_loss: 0.6733 - val_accuracy: 0.9447\n",
      "Epoch 95/200\n",
      "30/30 [==============================] - 0s 13ms/step - loss: 4.2681e-06 - accuracy: 1.0000 - val_loss: 0.6760 - val_accuracy: 0.9447\n",
      "Epoch 96/200\n",
      "30/30 [==============================] - 0s 13ms/step - loss: 4.3419e-06 - accuracy: 1.0000 - val_loss: 0.6787 - val_accuracy: 0.9447\n",
      "Epoch 97/200\n",
      "30/30 [==============================] - 0s 13ms/step - loss: 3.8386e-06 - accuracy: 1.0000 - val_loss: 0.6811 - val_accuracy: 0.9448\n",
      "Epoch 98/200\n",
      "30/30 [==============================] - 0s 14ms/step - loss: 3.9862e-06 - accuracy: 1.0000 - val_loss: 0.6837 - val_accuracy: 0.9447\n",
      "Epoch 99/200\n",
      "30/30 [==============================] - 0s 14ms/step - loss: 3.9817e-06 - accuracy: 1.0000 - val_loss: 0.6862 - val_accuracy: 0.9448\n",
      "Epoch 100/200\n",
      "30/30 [==============================] - 0s 13ms/step - loss: 3.4827e-06 - accuracy: 1.0000 - val_loss: 0.6887 - val_accuracy: 0.9447\n",
      "Epoch 101/200\n",
      "30/30 [==============================] - 0s 14ms/step - loss: 4.0597e-06 - accuracy: 1.0000 - val_loss: 0.6911 - val_accuracy: 0.9448\n",
      "Epoch 102/200\n",
      "30/30 [==============================] - 0s 13ms/step - loss: 3.3651e-06 - accuracy: 1.0000 - val_loss: 0.6934 - val_accuracy: 0.9448\n",
      "Epoch 103/200\n",
      "30/30 [==============================] - 0s 13ms/step - loss: 3.2487e-06 - accuracy: 1.0000 - val_loss: 0.6958 - val_accuracy: 0.9447\n",
      "Epoch 104/200\n",
      "30/30 [==============================] - 0s 14ms/step - loss: 3.1390e-06 - accuracy: 1.0000 - val_loss: 0.6981 - val_accuracy: 0.9448\n",
      "Epoch 105/200\n",
      "30/30 [==============================] - 0s 13ms/step - loss: 3.4163e-06 - accuracy: 1.0000 - val_loss: 0.7003 - val_accuracy: 0.9448\n",
      "Epoch 106/200\n",
      "30/30 [==============================] - 0s 14ms/step - loss: 2.8647e-06 - accuracy: 1.0000 - val_loss: 0.7025 - val_accuracy: 0.9448\n",
      "Epoch 107/200\n",
      "30/30 [==============================] - 0s 14ms/step - loss: 3.0162e-06 - accuracy: 1.0000 - val_loss: 0.7048 - val_accuracy: 0.9448\n",
      "Epoch 108/200\n",
      "30/30 [==============================] - 0s 14ms/step - loss: 2.9221e-06 - accuracy: 1.0000 - val_loss: 0.7070 - val_accuracy: 0.9448\n",
      "Epoch 109/200\n",
      "30/30 [==============================] - 0s 13ms/step - loss: 3.0606e-06 - accuracy: 1.0000 - val_loss: 0.7091 - val_accuracy: 0.9448\n",
      "Epoch 110/200\n",
      "30/30 [==============================] - 0s 13ms/step - loss: 2.6424e-06 - accuracy: 1.0000 - val_loss: 0.7113 - val_accuracy: 0.9448\n",
      "Epoch 111/200\n",
      "30/30 [==============================] - 0s 14ms/step - loss: 2.4507e-06 - accuracy: 1.0000 - val_loss: 0.7133 - val_accuracy: 0.9448\n",
      "Epoch 112/200\n",
      "30/30 [==============================] - 0s 13ms/step - loss: 2.6191e-06 - accuracy: 1.0000 - val_loss: 0.7154 - val_accuracy: 0.9448\n"
     ]
    },
    {
     "name": "stdout",
     "output_type": "stream",
     "text": [
      "Epoch 113/200\n",
      "30/30 [==============================] - 0s 13ms/step - loss: 2.5421e-06 - accuracy: 1.0000 - val_loss: 0.7175 - val_accuracy: 0.9448\n",
      "Epoch 114/200\n",
      "30/30 [==============================] - 0s 13ms/step - loss: 2.7576e-06 - accuracy: 1.0000 - val_loss: 0.7195 - val_accuracy: 0.9448\n",
      "Epoch 115/200\n",
      "30/30 [==============================] - 0s 14ms/step - loss: 2.3265e-06 - accuracy: 1.0000 - val_loss: 0.7215 - val_accuracy: 0.9448\n",
      "Epoch 116/200\n",
      "30/30 [==============================] - 1s 18ms/step - loss: 2.5740e-06 - accuracy: 1.0000 - val_loss: 0.7235 - val_accuracy: 0.9448\n",
      "Epoch 117/200\n",
      "30/30 [==============================] - 0s 16ms/step - loss: 2.3063e-06 - accuracy: 1.0000 - val_loss: 0.7254 - val_accuracy: 0.9448\n",
      "Epoch 118/200\n",
      "30/30 [==============================] - 0s 13ms/step - loss: 2.2539e-06 - accuracy: 1.0000 - val_loss: 0.7274 - val_accuracy: 0.9448\n",
      "Epoch 119/200\n",
      "30/30 [==============================] - 0s 14ms/step - loss: 2.2973e-06 - accuracy: 1.0000 - val_loss: 0.7293 - val_accuracy: 0.9448\n",
      "Epoch 120/200\n",
      "30/30 [==============================] - 0s 14ms/step - loss: 2.0051e-06 - accuracy: 1.0000 - val_loss: 0.7314 - val_accuracy: 0.9449\n",
      "Epoch 121/200\n",
      "30/30 [==============================] - 0s 13ms/step - loss: 2.1031e-06 - accuracy: 1.0000 - val_loss: 0.7332 - val_accuracy: 0.9449\n",
      "Epoch 122/200\n",
      "30/30 [==============================] - 0s 13ms/step - loss: 2.1181e-06 - accuracy: 1.0000 - val_loss: 0.7351 - val_accuracy: 0.9449\n",
      "Epoch 123/200\n",
      "30/30 [==============================] - 0s 13ms/step - loss: 2.2724e-06 - accuracy: 1.0000 - val_loss: 0.7370 - val_accuracy: 0.9449\n",
      "Epoch 124/200\n",
      "30/30 [==============================] - 0s 13ms/step - loss: 1.9476e-06 - accuracy: 1.0000 - val_loss: 0.7389 - val_accuracy: 0.9449\n",
      "Epoch 125/200\n",
      "30/30 [==============================] - 0s 13ms/step - loss: 2.0457e-06 - accuracy: 1.0000 - val_loss: 0.7408 - val_accuracy: 0.9449\n",
      "Epoch 126/200\n",
      "30/30 [==============================] - 0s 13ms/step - loss: 1.9828e-06 - accuracy: 1.0000 - val_loss: 0.7426 - val_accuracy: 0.9449\n",
      "Epoch 127/200\n",
      "30/30 [==============================] - 0s 13ms/step - loss: 1.8452e-06 - accuracy: 1.0000 - val_loss: 0.7443 - val_accuracy: 0.9449\n",
      "Epoch 128/200\n",
      "30/30 [==============================] - 0s 14ms/step - loss: 2.1577e-06 - accuracy: 1.0000 - val_loss: 0.7462 - val_accuracy: 0.9449\n",
      "Epoch 129/200\n",
      "30/30 [==============================] - 0s 13ms/step - loss: 1.5968e-06 - accuracy: 1.0000 - val_loss: 0.7479 - val_accuracy: 0.9449\n",
      "Epoch 130/200\n",
      "30/30 [==============================] - 0s 13ms/step - loss: 1.6932e-06 - accuracy: 1.0000 - val_loss: 0.7497 - val_accuracy: 0.9449\n",
      "Epoch 131/200\n",
      "30/30 [==============================] - 0s 13ms/step - loss: 1.7025e-06 - accuracy: 1.0000 - val_loss: 0.7515 - val_accuracy: 0.9449\n",
      "Epoch 132/200\n",
      "30/30 [==============================] - 0s 15ms/step - loss: 1.5745e-06 - accuracy: 1.0000 - val_loss: 0.7532 - val_accuracy: 0.9449\n",
      "Epoch 133/200\n",
      "30/30 [==============================] - 1s 18ms/step - loss: 1.4595e-06 - accuracy: 1.0000 - val_loss: 0.7549 - val_accuracy: 0.9449\n",
      "Epoch 134/200\n",
      "30/30 [==============================] - 1s 19ms/step - loss: 1.4893e-06 - accuracy: 1.0000 - val_loss: 0.7566 - val_accuracy: 0.9449\n",
      "Epoch 135/200\n",
      "30/30 [==============================] - 0s 16ms/step - loss: 1.4823e-06 - accuracy: 1.0000 - val_loss: 0.7583 - val_accuracy: 0.9449\n",
      "Epoch 136/200\n",
      "30/30 [==============================] - 0s 16ms/step - loss: 1.7845e-06 - accuracy: 1.0000 - val_loss: 0.7600 - val_accuracy: 0.9449\n",
      "Epoch 137/200\n",
      "30/30 [==============================] - 1s 17ms/step - loss: 1.4008e-06 - accuracy: 1.0000 - val_loss: 0.7617 - val_accuracy: 0.9449\n",
      "Epoch 138/200\n",
      "30/30 [==============================] - 0s 16ms/step - loss: 1.4906e-06 - accuracy: 1.0000 - val_loss: 0.7634 - val_accuracy: 0.9449\n",
      "Epoch 139/200\n",
      "30/30 [==============================] - 0s 14ms/step - loss: 1.2602e-06 - accuracy: 1.0000 - val_loss: 0.7650 - val_accuracy: 0.9449\n",
      "Epoch 140/200\n",
      "30/30 [==============================] - 0s 16ms/step - loss: 1.3250e-06 - accuracy: 1.0000 - val_loss: 0.7668 - val_accuracy: 0.9449\n",
      "Epoch 141/200\n",
      "30/30 [==============================] - 1s 17ms/step - loss: 1.2773e-06 - accuracy: 1.0000 - val_loss: 0.7683 - val_accuracy: 0.9449\n",
      "Epoch 142/200\n",
      "30/30 [==============================] - 1s 17ms/step - loss: 1.3606e-06 - accuracy: 1.0000 - val_loss: 0.7698 - val_accuracy: 0.9449\n",
      "Epoch 143/200\n",
      "30/30 [==============================] - 0s 14ms/step - loss: 1.1488e-06 - accuracy: 1.0000 - val_loss: 0.7715 - val_accuracy: 0.9449\n",
      "Epoch 144/200\n",
      "30/30 [==============================] - 0s 14ms/step - loss: 1.1546e-06 - accuracy: 1.0000 - val_loss: 0.7731 - val_accuracy: 0.9449\n",
      "Epoch 145/200\n",
      "30/30 [==============================] - 0s 16ms/step - loss: 1.3500e-06 - accuracy: 1.0000 - val_loss: 0.7747 - val_accuracy: 0.9449\n",
      "Epoch 146/200\n",
      "30/30 [==============================] - 0s 14ms/step - loss: 1.0919e-06 - accuracy: 1.0000 - val_loss: 0.7764 - val_accuracy: 0.9449\n",
      "Epoch 147/200\n",
      "30/30 [==============================] - 0s 13ms/step - loss: 1.2704e-06 - accuracy: 1.0000 - val_loss: 0.7779 - val_accuracy: 0.9449\n",
      "Epoch 148/200\n",
      "30/30 [==============================] - 0s 13ms/step - loss: 1.1386e-06 - accuracy: 1.0000 - val_loss: 0.7794 - val_accuracy: 0.9449\n",
      "Epoch 149/200\n",
      "30/30 [==============================] - 0s 13ms/step - loss: 1.0707e-06 - accuracy: 1.0000 - val_loss: 0.7810 - val_accuracy: 0.9449\n",
      "Epoch 150/200\n",
      "30/30 [==============================] - 0s 13ms/step - loss: 1.1095e-06 - accuracy: 1.0000 - val_loss: 0.7825 - val_accuracy: 0.9449\n",
      "Epoch 151/200\n",
      "30/30 [==============================] - 1s 17ms/step - loss: 9.8363e-07 - accuracy: 1.0000 - val_loss: 0.7841 - val_accuracy: 0.9449\n",
      "Epoch 152/200\n",
      "30/30 [==============================] - 0s 16ms/step - loss: 1.1534e-06 - accuracy: 1.0000 - val_loss: 0.7856 - val_accuracy: 0.9449\n",
      "Epoch 153/200\n",
      "30/30 [==============================] - 0s 15ms/step - loss: 1.0122e-06 - accuracy: 1.0000 - val_loss: 0.7871 - val_accuracy: 0.9449\n",
      "Epoch 154/200\n",
      "30/30 [==============================] - 0s 16ms/step - loss: 1.0743e-06 - accuracy: 1.0000 - val_loss: 0.7887 - val_accuracy: 0.9449\n",
      "Epoch 155/200\n",
      "30/30 [==============================] - 0s 14ms/step - loss: 9.9652e-07 - accuracy: 1.0000 - val_loss: 0.7902 - val_accuracy: 0.9449\n",
      "Epoch 156/200\n",
      "30/30 [==============================] - 1s 17ms/step - loss: 1.0041e-06 - accuracy: 1.0000 - val_loss: 0.7916 - val_accuracy: 0.9449\n",
      "Epoch 157/200\n",
      "30/30 [==============================] - 1s 17ms/step - loss: 8.8473e-07 - accuracy: 1.0000 - val_loss: 0.7931 - val_accuracy: 0.9449\n",
      "Epoch 158/200\n",
      "30/30 [==============================] - 0s 17ms/step - loss: 9.7837e-07 - accuracy: 1.0000 - val_loss: 0.7946 - val_accuracy: 0.9449\n",
      "Epoch 159/200\n",
      "30/30 [==============================] - 0s 13ms/step - loss: 8.8104e-07 - accuracy: 1.0000 - val_loss: 0.7961 - val_accuracy: 0.9449\n",
      "Epoch 160/200\n",
      "30/30 [==============================] - 0s 15ms/step - loss: 8.6690e-07 - accuracy: 1.0000 - val_loss: 0.7976 - val_accuracy: 0.9448\n",
      "Epoch 161/200\n",
      "30/30 [==============================] - 0s 16ms/step - loss: 8.7332e-07 - accuracy: 1.0000 - val_loss: 0.7989 - val_accuracy: 0.9450\n",
      "Epoch 162/200\n",
      "30/30 [==============================] - 0s 14ms/step - loss: 8.5395e-07 - accuracy: 1.0000 - val_loss: 0.8006 - val_accuracy: 0.9448\n",
      "Epoch 163/200\n",
      "30/30 [==============================] - 0s 15ms/step - loss: 7.5991e-07 - accuracy: 1.0000 - val_loss: 0.8019 - val_accuracy: 0.9449\n",
      "Epoch 164/200\n",
      "30/30 [==============================] - 0s 15ms/step - loss: 9.3838e-07 - accuracy: 1.0000 - val_loss: 0.8034 - val_accuracy: 0.9449\n",
      "Epoch 165/200\n",
      "30/30 [==============================] - 0s 16ms/step - loss: 7.1441e-07 - accuracy: 1.0000 - val_loss: 0.8048 - val_accuracy: 0.9448\n",
      "Epoch 166/200\n",
      "30/30 [==============================] - 0s 16ms/step - loss: 9.2965e-07 - accuracy: 1.0000 - val_loss: 0.8063 - val_accuracy: 0.9448\n",
      "Epoch 167/200\n",
      "30/30 [==============================] - 1s 17ms/step - loss: 7.8393e-07 - accuracy: 1.0000 - val_loss: 0.8077 - val_accuracy: 0.9448\n",
      "Epoch 168/200\n",
      "30/30 [==============================] - 1s 17ms/step - loss: 8.1988e-07 - accuracy: 1.0000 - val_loss: 0.8091 - val_accuracy: 0.9448\n",
      "Epoch 169/200\n",
      "30/30 [==============================] - 1s 17ms/step - loss: 7.8729e-07 - accuracy: 1.0000 - val_loss: 0.8105 - val_accuracy: 0.9448\n",
      "Epoch 170/200\n",
      "30/30 [==============================] - 0s 12ms/step - loss: 7.5490e-07 - accuracy: 1.0000 - val_loss: 0.8120 - val_accuracy: 0.9448\n",
      "Epoch 171/200\n",
      "30/30 [==============================] - 0s 12ms/step - loss: 8.9941e-07 - accuracy: 1.0000 - val_loss: 0.8134 - val_accuracy: 0.9448\n",
      "Epoch 172/200\n",
      "30/30 [==============================] - 0s 12ms/step - loss: 7.4183e-07 - accuracy: 1.0000 - val_loss: 0.8149 - val_accuracy: 0.9448\n",
      "Epoch 173/200\n",
      "30/30 [==============================] - 0s 12ms/step - loss: 6.7551e-07 - accuracy: 1.0000 - val_loss: 0.8162 - val_accuracy: 0.9448\n",
      "Epoch 174/200\n",
      "30/30 [==============================] - 0s 12ms/step - loss: 6.0578e-07 - accuracy: 1.0000 - val_loss: 0.8176 - val_accuracy: 0.9448\n",
      "Epoch 175/200\n",
      "30/30 [==============================] - 0s 14ms/step - loss: 6.8456e-07 - accuracy: 1.0000 - val_loss: 0.8189 - val_accuracy: 0.9448\n",
      "Epoch 176/200\n",
      "30/30 [==============================] - 0s 13ms/step - loss: 6.7817e-07 - accuracy: 1.0000 - val_loss: 0.8203 - val_accuracy: 0.9448\n",
      "Epoch 177/200\n",
      "30/30 [==============================] - 0s 13ms/step - loss: 6.3013e-07 - accuracy: 1.0000 - val_loss: 0.8218 - val_accuracy: 0.9448\n",
      "Epoch 178/200\n",
      "30/30 [==============================] - 0s 12ms/step - loss: 6.5847e-07 - accuracy: 1.0000 - val_loss: 0.8231 - val_accuracy: 0.9448\n",
      "Epoch 179/200\n",
      "30/30 [==============================] - 0s 12ms/step - loss: 5.9650e-07 - accuracy: 1.0000 - val_loss: 0.8244 - val_accuracy: 0.9448\n",
      "Epoch 180/200\n",
      "30/30 [==============================] - 0s 13ms/step - loss: 7.0179e-07 - accuracy: 1.0000 - val_loss: 0.8258 - val_accuracy: 0.9448\n",
      "Epoch 181/200\n",
      "30/30 [==============================] - 0s 12ms/step - loss: 6.0959e-07 - accuracy: 1.0000 - val_loss: 0.8272 - val_accuracy: 0.9448\n",
      "Epoch 182/200\n",
      "30/30 [==============================] - 0s 12ms/step - loss: 6.9013e-07 - accuracy: 1.0000 - val_loss: 0.8285 - val_accuracy: 0.9448\n",
      "Epoch 183/200\n",
      "30/30 [==============================] - 0s 12ms/step - loss: 6.9499e-07 - accuracy: 1.0000 - val_loss: 0.8299 - val_accuracy: 0.9448\n",
      "Epoch 184/200\n",
      "30/30 [==============================] - 0s 13ms/step - loss: 5.2463e-07 - accuracy: 1.0000 - val_loss: 0.8312 - val_accuracy: 0.9448\n",
      "Epoch 185/200\n",
      "30/30 [==============================] - 0s 12ms/step - loss: 5.6356e-07 - accuracy: 1.0000 - val_loss: 0.8325 - val_accuracy: 0.9448\n",
      "Epoch 186/200\n",
      "30/30 [==============================] - 0s 12ms/step - loss: 5.3420e-07 - accuracy: 1.0000 - val_loss: 0.8339 - val_accuracy: 0.9448\n",
      "Epoch 187/200\n",
      "30/30 [==============================] - 0s 12ms/step - loss: 4.6956e-07 - accuracy: 1.0000 - val_loss: 0.8352 - val_accuracy: 0.9448\n",
      "Epoch 188/200\n",
      "30/30 [==============================] - 0s 12ms/step - loss: 5.3075e-07 - accuracy: 1.0000 - val_loss: 0.8365 - val_accuracy: 0.9448\n",
      "Epoch 189/200\n",
      "30/30 [==============================] - 0s 12ms/step - loss: 5.4297e-07 - accuracy: 1.0000 - val_loss: 0.8378 - val_accuracy: 0.9448\n",
      "Epoch 190/200\n",
      "30/30 [==============================] - 0s 12ms/step - loss: 5.3906e-07 - accuracy: 1.0000 - val_loss: 0.8392 - val_accuracy: 0.9448\n",
      "Epoch 191/200\n",
      "30/30 [==============================] - 0s 12ms/step - loss: 5.5992e-07 - accuracy: 1.0000 - val_loss: 0.8405 - val_accuracy: 0.9448\n",
      "Epoch 192/200\n",
      "30/30 [==============================] - 0s 13ms/step - loss: 5.4301e-07 - accuracy: 1.0000 - val_loss: 0.8417 - val_accuracy: 0.9448\n",
      "Epoch 193/200\n",
      "30/30 [==============================] - 0s 13ms/step - loss: 4.5352e-07 - accuracy: 1.0000 - val_loss: 0.8432 - val_accuracy: 0.9448\n",
      "Epoch 194/200\n",
      "30/30 [==============================] - 0s 12ms/step - loss: 6.2310e-07 - accuracy: 1.0000 - val_loss: 0.8444 - val_accuracy: 0.9448\n",
      "Epoch 195/200\n",
      "30/30 [==============================] - 0s 12ms/step - loss: 4.4325e-07 - accuracy: 1.0000 - val_loss: 0.8458 - val_accuracy: 0.9448\n",
      "Epoch 196/200\n",
      "30/30 [==============================] - 0s 12ms/step - loss: 4.3399e-07 - accuracy: 1.0000 - val_loss: 0.8471 - val_accuracy: 0.9448\n",
      "Epoch 197/200\n",
      "30/30 [==============================] - 0s 12ms/step - loss: 4.1487e-07 - accuracy: 1.0000 - val_loss: 0.8483 - val_accuracy: 0.9449\n",
      "Epoch 198/200\n",
      "30/30 [==============================] - 0s 12ms/step - loss: 4.9458e-07 - accuracy: 1.0000 - val_loss: 0.8496 - val_accuracy: 0.9449\n",
      "Epoch 199/200\n",
      "30/30 [==============================] - 0s 12ms/step - loss: 4.9385e-07 - accuracy: 1.0000 - val_loss: 0.8509 - val_accuracy: 0.9449\n",
      "Epoch 200/200\n",
      "30/30 [==============================] - 0s 12ms/step - loss: 4.2348e-07 - accuracy: 1.0000 - val_loss: 0.8522 - val_accuracy: 0.9448\n"
     ]
    },
    {
     "data": {
      "text/plain": [
       "<tensorflow.python.keras.callbacks.History at 0x7f6636f782b0>"
      ]
     },
     "execution_count": 29,
     "metadata": {},
     "output_type": "execute_result"
    }
   ],
   "source": [
    "model.fit(x_train, y_train, batch_size=512, epochs=200, validation_data=(x_val, y_val))"
   ]
  },
  {
   "cell_type": "code",
   "execution_count": 30,
   "id": "a77d0442",
   "metadata": {},
   "outputs": [],
   "source": [
    "history = _"
   ]
  },
  {
   "cell_type": "code",
   "execution_count": 31,
   "id": "c0675a6f",
   "metadata": {},
   "outputs": [
    {
     "data": {
      "text/plain": [
       "tensorflow.python.keras.callbacks.History"
      ]
     },
     "execution_count": 31,
     "metadata": {},
     "output_type": "execute_result"
    }
   ],
   "source": [
    "type(history)"
   ]
  },
  {
   "cell_type": "code",
   "execution_count": 34,
   "id": "ea6062af",
   "metadata": {},
   "outputs": [],
   "source": [
    "history = history.history"
   ]
  },
  {
   "cell_type": "code",
   "execution_count": 35,
   "id": "a75cfa01",
   "metadata": {},
   "outputs": [
    {
     "data": {
      "text/plain": [
       "dict"
      ]
     },
     "execution_count": 35,
     "metadata": {},
     "output_type": "execute_result"
    }
   ],
   "source": [
    "type(history)"
   ]
  },
  {
   "cell_type": "code",
   "execution_count": 36,
   "id": "79b2411a",
   "metadata": {},
   "outputs": [
    {
     "data": {
      "text/plain": [
       "dict_keys(['loss', 'accuracy', 'val_loss', 'val_accuracy'])"
      ]
     },
     "execution_count": 36,
     "metadata": {},
     "output_type": "execute_result"
    }
   ],
   "source": [
    "history.keys()"
   ]
  },
  {
   "cell_type": "code",
   "execution_count": 44,
   "id": "0524268f",
   "metadata": {},
   "outputs": [
    {
     "data": {
      "text/plain": [
       "Text(0.5, 1.0, 'Training loss vs validation loss')"
      ]
     },
     "execution_count": 44,
     "metadata": {},
     "output_type": "execute_result"
    },
    {
     "data": {
      "image/png": "[encoded data removed]",
      "text/plain": [
       "<Figure size 1080x720 with 1 Axes>"
      ]
     },
     "metadata": {
      "needs_background": "light"
     },
     "output_type": "display_data"
    }
   ],
   "source": [
    "from matplotlib.pylab import figure, subplots\n",
    "%matplotlib inline\n",
    "fig, axs = subplots(1,1,figsize = (15,10))\n",
    "axs.plot(range(200), history['loss'], marker = 'o', label = 'Training loss')\n",
    "axs.plot(range(200), history['val_loss'], marker = '.', label = 'Validation loss')\n",
    "axs.legend()\n",
    "axs.set_title('Training loss vs validation loss')\n",
    "\n"
   ]
  },
  {
   "cell_type": "markdown",
   "id": "e9eaf79b",
   "metadata": {},
   "source": [
    "As we can see, our training loss decreased but validation loss increased which is signs of overfitting. So the network parameters are not too good. "
   ]
  },
  {
   "cell_type": "code",
   "execution_count": 45,
   "id": "16edf8b1",
   "metadata": {},
   "outputs": [],
   "source": [
    "model.add(layers.Dense(16,activation='relu', input_shape=(10000,)))\n",
    "model.add(layers.Dense(16,activation='relu'))\n",
    "model.add(layers.Dense(1, activation='sigmoid'))\n",
    "\n",
    "model.compile(optimizer=optimizer, loss=loss, metrics=['accuracy'])"
   ]
  },
  {
   "cell_type": "code",
   "execution_count": 46,
   "id": "e3886342",
   "metadata": {},
   "outputs": [
    {
     "name": "stdout",
     "output_type": "stream",
     "text": [
      "Epoch 1/50\n",
      "30/30 [==============================] - 1s 23ms/step - loss: 0.6438 - accuracy: 0.4954 - val_loss: 0.4517 - val_accuracy: 0.9445\n",
      "Epoch 2/50\n",
      "30/30 [==============================] - 0s 13ms/step - loss: 0.3539 - accuracy: 1.0000 - val_loss: 0.3749 - val_accuracy: 0.9446\n",
      "Epoch 3/50\n",
      "30/30 [==============================] - 0s 14ms/step - loss: 0.2430 - accuracy: 1.0000 - val_loss: 0.3426 - val_accuracy: 0.9450\n",
      "Epoch 4/50\n",
      "30/30 [==============================] - 0s 16ms/step - loss: 0.1857 - accuracy: 1.0000 - val_loss: 0.3137 - val_accuracy: 0.9447\n",
      "Epoch 5/50\n",
      "30/30 [==============================] - 0s 16ms/step - loss: 0.1385 - accuracy: 1.0000 - val_loss: 0.2893 - val_accuracy: 0.9447\n",
      "Epoch 6/50\n",
      "30/30 [==============================] - 1s 17ms/step - loss: 0.1021 - accuracy: 1.0000 - val_loss: 0.2710 - val_accuracy: 0.9448\n",
      "Epoch 7/50\n",
      "30/30 [==============================] - 0s 13ms/step - loss: 0.0726 - accuracy: 1.0000 - val_loss: 0.2594 - val_accuracy: 0.9445\n",
      "Epoch 8/50\n",
      "30/30 [==============================] - 0s 14ms/step - loss: 0.0491 - accuracy: 1.0000 - val_loss: 0.2528 - val_accuracy: 0.9445\n",
      "Epoch 9/50\n",
      "30/30 [==============================] - 0s 13ms/step - loss: 0.0327 - accuracy: 1.0000 - val_loss: 0.2547 - val_accuracy: 0.9447\n",
      "Epoch 10/50\n",
      "30/30 [==============================] - 0s 13ms/step - loss: 0.0221 - accuracy: 1.0000 - val_loss: 0.2616 - val_accuracy: 0.9447\n",
      "Epoch 11/50\n",
      "30/30 [==============================] - 0s 15ms/step - loss: 0.0156 - accuracy: 1.0000 - val_loss: 0.2703 - val_accuracy: 0.9446\n",
      "Epoch 12/50\n",
      "30/30 [==============================] - 0s 15ms/step - loss: 0.0116 - accuracy: 1.0000 - val_loss: 0.2793 - val_accuracy: 0.9446\n",
      "Epoch 13/50\n",
      "30/30 [==============================] - 0s 14ms/step - loss: 0.0089 - accuracy: 1.0000 - val_loss: 0.2882 - val_accuracy: 0.9446\n",
      "Epoch 14/50\n",
      "30/30 [==============================] - 0s 14ms/step - loss: 0.0071 - accuracy: 1.0000 - val_loss: 0.2965 - val_accuracy: 0.9445\n",
      "Epoch 15/50\n",
      "30/30 [==============================] - 0s 13ms/step - loss: 0.0057 - accuracy: 1.0000 - val_loss: 0.3044 - val_accuracy: 0.9445\n",
      "Epoch 16/50\n",
      "30/30 [==============================] - 1s 18ms/step - loss: 0.0048 - accuracy: 1.0000 - val_loss: 0.3117 - val_accuracy: 0.9444\n",
      "Epoch 17/50\n",
      "30/30 [==============================] - 0s 15ms/step - loss: 0.0040 - accuracy: 1.0000 - val_loss: 0.3168 - val_accuracy: 0.9444\n",
      "Epoch 18/50\n",
      "30/30 [==============================] - 0s 14ms/step - loss: 0.0035 - accuracy: 1.0000 - val_loss: 0.3218 - val_accuracy: 0.9443\n",
      "Epoch 19/50\n",
      "30/30 [==============================] - 0s 14ms/step - loss: 0.0030 - accuracy: 1.0000 - val_loss: 0.3266 - val_accuracy: 0.9443\n",
      "Epoch 20/50\n",
      "30/30 [==============================] - 0s 15ms/step - loss: 0.0026 - accuracy: 1.0000 - val_loss: 0.3313 - val_accuracy: 0.9443\n",
      "Epoch 21/50\n",
      "30/30 [==============================] - 0s 14ms/step - loss: 0.0024 - accuracy: 1.0000 - val_loss: 0.3358 - val_accuracy: 0.9442\n",
      "Epoch 22/50\n",
      "30/30 [==============================] - 0s 17ms/step - loss: 0.0021 - accuracy: 1.0000 - val_loss: 0.3401 - val_accuracy: 0.9442\n",
      "Epoch 23/50\n",
      "30/30 [==============================] - 0s 13ms/step - loss: 0.0019 - accuracy: 1.0000 - val_loss: 0.3443 - val_accuracy: 0.9442\n",
      "Epoch 24/50\n",
      "30/30 [==============================] - 0s 14ms/step - loss: 0.0017 - accuracy: 1.0000 - val_loss: 0.3483 - val_accuracy: 0.9442\n",
      "Epoch 25/50\n",
      "30/30 [==============================] - 0s 14ms/step - loss: 0.0016 - accuracy: 1.0000 - val_loss: 0.3522 - val_accuracy: 0.9442\n",
      "Epoch 26/50\n",
      "30/30 [==============================] - 0s 14ms/step - loss: 0.0014 - accuracy: 1.0000 - val_loss: 0.3559 - val_accuracy: 0.9442\n",
      "Epoch 27/50\n",
      "30/30 [==============================] - 0s 15ms/step - loss: 0.0013 - accuracy: 1.0000 - val_loss: 0.3595 - val_accuracy: 0.9442\n",
      "Epoch 28/50\n",
      "30/30 [==============================] - 0s 14ms/step - loss: 0.0012 - accuracy: 1.0000 - val_loss: 0.3630 - val_accuracy: 0.9442\n",
      "Epoch 29/50\n",
      "30/30 [==============================] - 0s 14ms/step - loss: 0.0011 - accuracy: 1.0000 - val_loss: 0.3664 - val_accuracy: 0.9442\n",
      "Epoch 30/50\n",
      "30/30 [==============================] - 0s 13ms/step - loss: 0.0011 - accuracy: 1.0000 - val_loss: 0.3697 - val_accuracy: 0.9442\n",
      "Epoch 31/50\n",
      "30/30 [==============================] - 0s 13ms/step - loss: 9.9014e-04 - accuracy: 1.0000 - val_loss: 0.3729 - val_accuracy: 0.9442\n",
      "Epoch 32/50\n",
      "30/30 [==============================] - 0s 14ms/step - loss: 9.2314e-04 - accuracy: 1.0000 - val_loss: 0.3760 - val_accuracy: 0.9442\n",
      "Epoch 33/50\n",
      "30/30 [==============================] - 0s 16ms/step - loss: 8.6483e-04 - accuracy: 1.0000 - val_loss: 0.3790 - val_accuracy: 0.9442\n",
      "Epoch 34/50\n",
      "30/30 [==============================] - 0s 15ms/step - loss: 8.1689e-04 - accuracy: 1.0000 - val_loss: 0.3819 - val_accuracy: 0.9442\n",
      "Epoch 35/50\n",
      "30/30 [==============================] - 0s 17ms/step - loss: 7.5872e-04 - accuracy: 1.0000 - val_loss: 0.3847 - val_accuracy: 0.9442\n",
      "Epoch 36/50\n",
      "30/30 [==============================] - 0s 14ms/step - loss: 7.2250e-04 - accuracy: 1.0000 - val_loss: 0.3875 - val_accuracy: 0.9442\n",
      "Epoch 37/50\n",
      "30/30 [==============================] - 0s 14ms/step - loss: 6.8152e-04 - accuracy: 1.0000 - val_loss: 0.3902 - val_accuracy: 0.9442\n",
      "Epoch 38/50\n",
      "30/30 [==============================] - 0s 16ms/step - loss: 6.4801e-04 - accuracy: 1.0000 - val_loss: 0.3928 - val_accuracy: 0.9442\n",
      "Epoch 39/50\n",
      "30/30 [==============================] - 0s 15ms/step - loss: 6.1660e-04 - accuracy: 1.0000 - val_loss: 0.3954 - val_accuracy: 0.9442\n",
      "Epoch 40/50\n",
      "30/30 [==============================] - 0s 15ms/step - loss: 5.8020e-04 - accuracy: 1.0000 - val_loss: 0.3979 - val_accuracy: 0.9442\n",
      "Epoch 41/50\n",
      "30/30 [==============================] - 1s 18ms/step - loss: 5.4774e-04 - accuracy: 1.0000 - val_loss: 0.4004 - val_accuracy: 0.9442\n",
      "Epoch 42/50\n",
      "30/30 [==============================] - 0s 17ms/step - loss: 5.2664e-04 - accuracy: 1.0000 - val_loss: 0.4028 - val_accuracy: 0.9442\n",
      "Epoch 43/50\n",
      "30/30 [==============================] - 0s 16ms/step - loss: 5.0031e-04 - accuracy: 1.0000 - val_loss: 0.4051 - val_accuracy: 0.9442\n",
      "Epoch 44/50\n",
      "30/30 [==============================] - 0s 17ms/step - loss: 4.7566e-04 - accuracy: 1.0000 - val_loss: 0.4075 - val_accuracy: 0.9442\n",
      "Epoch 45/50\n",
      "30/30 [==============================] - 0s 16ms/step - loss: 4.5369e-04 - accuracy: 1.0000 - val_loss: 0.4097 - val_accuracy: 0.9442\n",
      "Epoch 46/50\n",
      "30/30 [==============================] - 0s 14ms/step - loss: 4.3514e-04 - accuracy: 1.0000 - val_loss: 0.4119 - val_accuracy: 0.9442\n",
      "Epoch 47/50\n",
      "30/30 [==============================] - 0s 14ms/step - loss: 4.1036e-04 - accuracy: 1.0000 - val_loss: 0.4141 - val_accuracy: 0.9442\n",
      "Epoch 48/50\n",
      "30/30 [==============================] - 0s 14ms/step - loss: 3.9588e-04 - accuracy: 1.0000 - val_loss: 0.4163 - val_accuracy: 0.9442\n",
      "Epoch 49/50\n",
      "30/30 [==============================] - 1s 18ms/step - loss: 3.8249e-04 - accuracy: 1.0000 - val_loss: 0.4184 - val_accuracy: 0.9442\n",
      "Epoch 50/50\n",
      "30/30 [==============================] - 0s 15ms/step - loss: 3.6297e-04 - accuracy: 1.0000 - val_loss: 0.4204 - val_accuracy: 0.9442\n"
     ]
    },
    {
     "data": {
      "text/plain": [
       "<tensorflow.python.keras.callbacks.History at 0x7f66369a8880>"
      ]
     },
     "execution_count": 46,
     "metadata": {},
     "output_type": "execute_result"
    }
   ],
   "source": [
    "model.fit(x_train, y_train, batch_size=512, epochs=50, validation_data=(x_val, y_val))"
   ]
  },
  {
   "cell_type": "code",
   "execution_count": 47,
   "id": "85732130",
   "metadata": {},
   "outputs": [
    {
     "data": {
      "text/plain": [
       "Text(0.5, 1.0, 'Training loss vs validation loss')"
      ]
     },
     "execution_count": 47,
     "metadata": {},
     "output_type": "execute_result"
    },
    {
     "data": {
      "image/png": "[encoded data removed]",
      "text/plain": [
       "<Figure size 1080x720 with 1 Axes>"
      ]
     },
     "metadata": {
      "needs_background": "light"
     },
     "output_type": "display_data"
    }
   ],
   "source": [
    "history = _\n",
    "history = history.history\n",
    "fig, axs = subplots(1,1,figsize = (15,10))\n",
    "axs.plot(range(50), history['loss'], marker = 'o', label = 'Training loss')\n",
    "axs.plot(range(50), history['val_loss'], marker = '.', label = 'Validation loss')\n",
    "axs.legend()\n",
    "axs.set_title('Training loss vs validation loss')"
   ]
  },
  {
   "cell_type": "markdown",
   "id": "6444b053",
   "metadata": {},
   "source": [
    "We can see that this time there is not that much increase in validation loss compared to previous ones. We can see validation loss is minimum around epoch number 8. So lets train for only 8 epochs"
   ]
  },
  {
   "cell_type": "code",
   "execution_count": 55,
   "id": "92454924",
   "metadata": {},
   "outputs": [
    {
     "name": "stdout",
     "output_type": "stream",
     "text": [
      "Epoch 1/8\n",
      "15/15 [==============================] - 1s 46ms/step - loss: 0.6511 - accuracy: 0.6769 - val_loss: 0.5324 - val_accuracy: 0.9446\n",
      "Epoch 2/8\n",
      "15/15 [==============================] - 0s 24ms/step - loss: 0.4565 - accuracy: 1.0000 - val_loss: 0.3777 - val_accuracy: 0.9446\n",
      "Epoch 3/8\n",
      "15/15 [==============================] - 0s 25ms/step - loss: 0.2754 - accuracy: 1.0000 - val_loss: 0.3213 - val_accuracy: 0.9446\n",
      "Epoch 4/8\n",
      "15/15 [==============================] - 0s 26ms/step - loss: 0.1805 - accuracy: 1.0000 - val_loss: 0.3046 - val_accuracy: 0.9446\n",
      "Epoch 5/8\n",
      "15/15 [==============================] - 0s 26ms/step - loss: 0.1258 - accuracy: 1.0000 - val_loss: 0.2888 - val_accuracy: 0.9446\n",
      "Epoch 6/8\n",
      "15/15 [==============================] - 0s 26ms/step - loss: 0.0907 - accuracy: 1.0000 - val_loss: 0.2789 - val_accuracy: 0.9446\n",
      "Epoch 7/8\n",
      "15/15 [==============================] - 0s 25ms/step - loss: 0.0661 - accuracy: 1.0000 - val_loss: 0.2745 - val_accuracy: 0.9445\n",
      "Epoch 8/8\n",
      "15/15 [==============================] - 0s 22ms/step - loss: 0.0487 - accuracy: 1.0000 - val_loss: 0.2750 - val_accuracy: 0.9445\n"
     ]
    },
    {
     "data": {
      "text/plain": [
       "<tensorflow.python.keras.callbacks.History at 0x7f663c814430>"
      ]
     },
     "execution_count": 55,
     "metadata": {},
     "output_type": "execute_result"
    }
   ],
   "source": [
    "model.add(layers.Dense(16,activation='relu', input_shape=(10000,)))\n",
    "model.add(layers.Dense(16,activation='relu'))\n",
    "model.add(layers.Dense(1, activation='sigmoid'))\n",
    "\n",
    "model.compile(optimizer=optimizer, loss=loss, metrics=['accuracy'])\n",
    "\n",
    "model.fit(x_train, y_train, batch_size=1024, epochs=8, validation_data=(x_val, y_val))"
   ]
  },
  {
   "cell_type": "code",
   "execution_count": 56,
   "id": "cf8f4145",
   "metadata": {},
   "outputs": [
    {
     "data": {
      "text/plain": [
       "Text(0.5, 1.0, 'Training loss vs validation loss')"
      ]
     },
     "execution_count": 56,
     "metadata": {},
     "output_type": "execute_result"
    },
    {
     "data": {
      "image/png": "[encoded data removed]",
      "text/plain": [
       "<Figure size 1080x720 with 1 Axes>"
      ]
     },
     "metadata": {
      "needs_background": "light"
     },
     "output_type": "display_data"
    }
   ],
   "source": [
    "history = _\n",
    "history = history.history\n",
    "fig, axs = subplots(1,1,figsize = (15,10))\n",
    "axs.plot(range(8), history['loss'], marker = 'o', label = 'Training loss')\n",
    "axs.plot(range(8), history['val_loss'], marker = '.', label = 'Validation loss')\n",
    "axs.legend()\n",
    "axs.set_title('Training loss vs validation loss')"
   ]
  },
  {
   "cell_type": "markdown",
   "id": "1f482261",
   "metadata": {},
   "source": [
    "# Making predicitions using trained model"
   ]
  },
  {
   "cell_type": "code",
   "execution_count": 51,
   "id": "acbbb6f4",
   "metadata": {},
   "outputs": [],
   "source": [
    "y_predict = model.predict(test_data)"
   ]
  },
  {
   "cell_type": "code",
   "execution_count": 52,
   "id": "d5571248",
   "metadata": {},
   "outputs": [
    {
     "data": {
      "text/plain": [
       "array([[0.05454803],\n",
       "       [0.98437405],\n",
       "       [0.98437405],\n",
       "       ...,\n",
       "       [0.05454803],\n",
       "       [0.05454803],\n",
       "       [0.98437405]], dtype=float32)"
      ]
     },
     "execution_count": 52,
     "metadata": {},
     "output_type": "execute_result"
    }
   ],
   "source": [
    "y_predict"
   ]
  },
  {
   "cell_type": "code",
   "execution_count": 60,
   "id": "34719938",
   "metadata": {},
   "outputs": [
    {
     "name": "stdout",
     "output_type": "stream",
     "text": [
      "782/782 [==============================] - 1s 1ms/step - loss: 0.6674 - accuracy: 0.8461\n"
     ]
    }
   ],
   "source": [
    "accuracy = model.evaluate(test_data, test_label)"
   ]
  },
  {
   "cell_type": "code",
   "execution_count": 61,
   "id": "9dacaf62",
   "metadata": {},
   "outputs": [
    {
     "data": {
      "text/plain": [
       "array([0, 1, 1, ..., 0, 0, 0])"
      ]
     },
     "execution_count": 61,
     "metadata": {},
     "output_type": "execute_result"
    }
   ],
   "source": [
    "test_label"
   ]
  },
  {
   "cell_type": "code",
   "execution_count": null,
   "id": "fbb52a35",
   "metadata": {},
   "outputs": [],
   "source": []
  }
 ],
 "metadata": {
  "kernelspec": {
   "display_name": "Python 3",
   "language": "python",
   "name": "python3"
  },
  "language_info": {
   "codemirror_mode": {
    "name": "ipython",
    "version": 3
   },
   "file_extension": ".py",
   "mimetype": "text/x-python",
   "name": "python",
   "nbconvert_exporter": "python",
   "pygments_lexer": "ipython3",
   "version": "3.7.10"
  }
 },
 "nbformat": 4,
 "nbformat_minor": 5
}
